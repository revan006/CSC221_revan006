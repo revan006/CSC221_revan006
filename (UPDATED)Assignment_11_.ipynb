{
  "nbformat": 4,
  "nbformat_minor": 0,
  "metadata": {
    "colab": {
      "provenance": [],
      "authorship_tag": "ABX9TyOuklfcdq3FCJsKgbapOlzY",
      "include_colab_link": true
    },
    "kernelspec": {
      "name": "python3",
      "display_name": "Python 3"
    },
    "language_info": {
      "name": "python"
    }
  },
  "cells": [
    {
      "cell_type": "markdown",
      "metadata": {
        "id": "view-in-github",
        "colab_type": "text"
      },
      "source": [
        "<a href=\"https://colab.research.google.com/github/revan006/CSC221_revan006/blob/main/(UPDATED)Assignment_11_.ipynb\" target=\"_parent\"><img src=\"https://colab.research.google.com/assets/colab-badge.svg\" alt=\"Open In Colab\"/></a>"
      ]
    },
    {
      "cell_type": "code",
      "execution_count": 3,
      "metadata": {
        "colab": {
          "base_uri": "https://localhost:8080/"
        },
        "id": "zIE6G0fsrh_J",
        "outputId": "62eb3f30-229c-4b2f-c4f1-72c26d5035ee"
      },
      "outputs": [
        {
          "output_type": "stream",
          "name": "stdout",
          "text": [
            "My Restaurant\n",
            "Italian\n",
            "Restaurant Name: My Restaurant\n",
            "Cuisine Type: Italian\n",
            "My Restaurant is open!\n",
            "Restaurant Name: Restaurant A\n",
            "Cuisine Type: Mexican\n",
            "Restaurant Name: Restaurant B\n",
            "Cuisine Type: Chinese\n",
            "Restaurant Name: Restaurant C\n",
            "Cuisine Type: Indian\n",
            "User: Eleanor Johnson, 28 years old\n",
            "Email: eleanor@example.com\n",
            "Location: Los Angeles\n",
            "Interests: hiking, photography\n",
            "Hello, Eleanor! I see you're interested in hiking, photography.\n",
            "User: Oliver Smith, 22 years old\n",
            "Email: oliver@example.com\n",
            "Location: San Francisco\n",
            "Interests: music, coding\n",
            "Hello, Oliver! I see you're interested in music, coding.\n",
            "User: Sophia Wong, 33 years old\n",
            "Email: sophia@example.com\n",
            "Location: New York\n",
            "Interests: travel, cooking\n",
            "Hello, Sophia! I see you're interested in travel, cooking.\n"
          ]
        }
      ],
      "source": [
        "#9-1\n",
        "class Restaurant:\n",
        "    def __init__(self, restaurant_name, cuisine_type):\n",
        "        self.restaurant_name = restaurant_name\n",
        "        self.cuisine_type = cuisine_type\n",
        "\n",
        "    def describe_restaurant(self):\n",
        "        print(f\"Restaurant Name: {self.restaurant_name}\")\n",
        "        print(f\"Cuisine Type: {self.cuisine_type}\")\n",
        "\n",
        "    def open_restaurant(self):\n",
        "        print(f\"{self.restaurant_name} is open!\")\n",
        "\n",
        "restaurant = Restaurant(\"My Restaurant\", \"Italian\")\n",
        "\n",
        "print(restaurant.restaurant_name)\n",
        "print(restaurant.cuisine_type)\n",
        "\n",
        "restaurant.describe_restaurant()\n",
        "restaurant.open_restaurant()\n",
        "\n",
        "#9-2\n",
        "restaurant1 = Restaurant(\"Restaurant A\", \"Mexican\")\n",
        "restaurant2 = Restaurant(\"Restaurant B\", \"Chinese\")\n",
        "restaurant3 = Restaurant(\"Restaurant C\", \"Indian\")\n",
        "\n",
        "restaurant1.describe_restaurant()\n",
        "restaurant2.describe_restaurant()\n",
        "restaurant3.describe_restaurant()\n",
        "\n",
        "#9-3\n",
        "class User:\n",
        "    def __init__(self, first_name, last_name, age, email, city, interests):\n",
        "        self.first_name = first_name\n",
        "        self.last_name = last_name\n",
        "        self.age = age\n",
        "        self.email = email\n",
        "        self.city = city\n",
        "        self.interests = interests\n",
        "\n",
        "    def describe_user(self):\n",
        "        print(f\"User: {self.first_name} {self.last_name}, {self.age} years old\")\n",
        "        print(f\"Email: {self.email}\")\n",
        "        print(f\"Location: {self.city}\")\n",
        "        print(f\"Interests: {', '.join(self.interests)}\")\n",
        "\n",
        "    def greet_user(self):\n",
        "        greeting = f\"Hello, {self.first_name}!\"\n",
        "        if self.interests:\n",
        "            greeting += f\" I see you're interested in {', '.join(self.interests)}.\"\n",
        "        print(greeting)\n",
        "\n",
        "user1 = User(\"Eleanor\", \"Johnson\", 28, \"eleanor@example.com\", \"Los Angeles\", [\"hiking\", \"photography\"])\n",
        "user2 = User(\"Oliver\", \"Smith\", 22, \"oliver@example.com\", \"San Francisco\", [\"music\", \"coding\"])\n",
        "user3 = User(\"Sophia\", \"Wong\", 33, \"sophia@example.com\", \"New York\", [\"travel\", \"cooking\"])\n",
        "\n",
        "user1.describe_user()\n",
        "user1.greet_user()\n",
        "\n",
        "user2.describe_user()\n",
        "user2.greet_user()\n",
        "\n",
        "user3.describe_user()\n",
        "user3.greet_user()\n",
        "\n",
        "\n",
        "\n"
      ]
    },
    {
      "cell_type": "code",
      "source": [
        "class IceCreamStand(Restaurant):\n",
        "    def __init__(self, restaurant_name, cuisine_type, flavors):\n",
        "        super().__init__(restaurant_name, cuisine_type)\n",
        "        self.flavors = flavors\n",
        "\n",
        "    def display_flavors(self):\n",
        "        print(\"Available Ice Cream Flavors:\")\n",
        "        for flavor in self.flavors:\n",
        "            print(f\"- {flavor}\")\n",
        "\n",
        "# Create an instance of IceCreamStand and call the display_flavors method\n",
        "ice_cream_stand = IceCreamStand(\"Cool Cones\", \"Ice Cream Parlor\", [\"Vanilla\", \"Chocolate\", \"Strawberry\", \"Mint Chocolate Chip\"])\n",
        "ice_cream_stand.describe_restaurant()\n",
        "ice_cream_stand.display_flavors()\n"
      ],
      "metadata": {
        "colab": {
          "base_uri": "https://localhost:8080/"
        },
        "id": "MfdcSjlntCSF",
        "outputId": "8834c3de-dbb3-4bfc-e80a-25edae847a08"
      },
      "execution_count": 4,
      "outputs": [
        {
          "output_type": "stream",
          "name": "stdout",
          "text": [
            "Restaurant Name: Cool Cones\n",
            "Cuisine Type: Ice Cream Parlor\n",
            "Available Ice Cream Flavors:\n",
            "- Vanilla\n",
            "- Chocolate\n",
            "- Strawberry\n",
            "- Mint Chocolate Chip\n"
          ]
        }
      ]
    },
    {
      "cell_type": "code",
      "source": [
        "class Admin(User):\n",
        "    def __init__(self, first_name, last_name, age, email, city, interests, privileges):\n",
        "        super().__init__(first_name, last_name, age, email, city, interests)\n",
        "        self.privileges = privileges\n",
        "\n",
        "    def show_privileges(self):\n",
        "        print(f\"Administrator Privileges:\")\n",
        "        for privilege in self.privileges:\n",
        "            print(f\"- {privilege}\")\n",
        "\n",
        "# Create an instance of Admin and call the show_privileges method\n",
        "admin_user = Admin(\"Alex\", \"Smith\", 40, \"admin@example.com\", \"Admin City\", [], [\"can add post\", \"can delete post\", \"can ban user\"])\n",
        "admin_user.describe_user()\n",
        "admin_user.show_privileges()\n"
      ],
      "metadata": {
        "colab": {
          "base_uri": "https://localhost:8080/"
        },
        "id": "A7toh4iKtGnJ",
        "outputId": "1a7f9b29-7514-4472-ef20-80826afb90f9"
      },
      "execution_count": 5,
      "outputs": [
        {
          "output_type": "stream",
          "name": "stdout",
          "text": [
            "User: Alex Smith, 40 years old\n",
            "Email: admin@example.com\n",
            "Location: Admin City\n",
            "Interests: \n",
            "Administrator Privileges:\n",
            "- can add post\n",
            "- can delete post\n",
            "- can ban user\n"
          ]
        }
      ]
    }
  ]
}