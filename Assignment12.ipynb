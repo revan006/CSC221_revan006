{
  "nbformat": 4,
  "nbformat_minor": 0,
  "metadata": {
    "colab": {
      "provenance": [],
      "authorship_tag": "ABX9TyOf0yY8LtfWbofqATqPt+DL",
      "include_colab_link": true
    },
    "kernelspec": {
      "name": "python3",
      "display_name": "Python 3"
    },
    "language_info": {
      "name": "python"
    }
  },
  "cells": [
    {
      "cell_type": "markdown",
      "metadata": {
        "id": "view-in-github",
        "colab_type": "text"
      },
      "source": [
        "<a href=\"https://colab.research.google.com/github/revan006/CSC221_revan006/blob/main/Assignment12.ipynb\" target=\"_parent\"><img src=\"https://colab.research.google.com/assets/colab-badge.svg\" alt=\"Open In Colab\"/></a>"
      ]
    },
    {
      "cell_type": "code",
      "execution_count": 1,
      "metadata": {
        "colab": {
          "base_uri": "https://localhost:8080/"
        },
        "id": "e7dhP-s2pxwz",
        "outputId": "90e1d712-39b2-4ae2-f781-604ea32320ff"
      },
      "outputs": [
        {
          "output_type": "stream",
          "name": "stdout",
          "text": [
            "Wallet Contents:\n",
            "$1.00\n",
            "$5.00\n",
            "$10.00\n",
            "$0.01\n",
            "$0.05\n",
            "$0.10\n",
            "$0.25\n",
            "\n",
            "Total Money in Wallet: $16.41\n"
          ]
        }
      ],
      "source": [
        "class Money:\n",
        "    def __init__(self, value):\n",
        "        self.value = value\n",
        "\n",
        "    def __str__(self):\n",
        "        return f\"${self.value:.2f}\"\n",
        "\n",
        "    def __add__(self, other):\n",
        "        if isinstance(other, Money):\n",
        "            return Money(self.value + other.value)\n",
        "        else:\n",
        "            return NotImplemented\n",
        "\n",
        "class Bills(Money):\n",
        "    def __str__(self):\n",
        "        return f\"${int(self.value)}.00\"\n",
        "\n",
        "class Coins(Money):\n",
        "    def __str__(self):\n",
        "        return f\"${self.value:.2f}\"\n",
        "\n",
        "class One(Bills):\n",
        "    def __init__(self):\n",
        "        super().__init__(1)\n",
        "\n",
        "class Five(Bills):\n",
        "    def __init__(self):\n",
        "        super().__init__(5)\n",
        "\n",
        "class Ten(Bills):\n",
        "    def __init__(self):\n",
        "        super().__init__(10)\n",
        "\n",
        "class Twenty(Bills):\n",
        "    def __init__(self):\n",
        "        super().__init__(20)\n",
        "\n",
        "class Penny(Coins):\n",
        "    def __init__(self):\n",
        "        super().__init__(0.01)\n",
        "\n",
        "class Nickel(Coins):\n",
        "    def __init__(self):\n",
        "        super().__init__(0.05)\n",
        "\n",
        "class Dime(Coins):\n",
        "    def __init__(self):\n",
        "        super().__init__(0.10)\n",
        "\n",
        "class Quarter(Coins):\n",
        "    def __init__(self):\n",
        "        super().__init__(0.25)\n",
        "\n",
        "def test_money():\n",
        "    one_dollar = One()\n",
        "    five_dollars = Five()\n",
        "    ten_dollars = Ten()\n",
        "    twenty_dollars = Twenty()\n",
        "\n",
        "    penny = Penny()\n",
        "    nickel = Nickel()\n",
        "    dime = Dime()\n",
        "    quarter = Quarter()\n",
        "\n",
        "    wallet = [one_dollar, five_dollars, ten_dollars, penny, nickel, dime, quarter]\n",
        "\n",
        "    total_money = sum(wallet, Money(0))\n",
        "\n",
        "    print(\"Wallet Contents:\")\n",
        "    for item in wallet:\n",
        "        print(item)\n",
        "\n",
        "    print(\"\\nTotal Money in Wallet:\", total_money)\n",
        "\n",
        "if __name__ == \"__main__\":\n",
        "    test_money()\n"
      ]
    },
    {
      "cell_type": "code",
      "source": [
        "class Vehicle:\n",
        "    def __init__(self, brand, model, year):\n",
        "        self.brand = brand\n",
        "        self.model = model\n",
        "        self.year = year\n",
        "\n",
        "    def get_info(self):\n",
        "        return f\"{self.year} {self.brand} {self.model}\"\n",
        "\n",
        "class Car(Vehicle):\n",
        "    def __init__(self, brand, model, year, num_doors):\n",
        "        super().__init__(brand, model, year)\n",
        "        self.num_doors = num_doors\n",
        "\n",
        "    def get_info(self):\n",
        "        return f\"{super().get_info()}, {self.num_doors}-door car\"\n",
        "\n",
        "class Bicycle(Vehicle):\n",
        "    def __init__(self, brand, model, year, frame_material):\n",
        "        super().__init__(brand, model, year)\n",
        "        self.frame_material = frame_material\n",
        "\n",
        "    def get_info(self):\n",
        "        return f\"{super().get_info()}, {self.frame_material} bicycle\"\n",
        "\n",
        "class Motorcycle(Vehicle):\n",
        "    def __init__(self, brand, model, year, engine_type):\n",
        "        super().__init__(brand, model, year)\n",
        "        self.engine_type = engine_type\n",
        "\n",
        "    def get_info(self):\n",
        "        return f\"{super().get_info()}, {self.engine_type} motorcycle\"\n",
        "\n",
        "def test_vehicles():\n",
        "    vehicles = [\n",
        "        Car(\"Toyota\", \"Camry\", 2023, 4),\n",
        "        Bicycle(\"Trek\", \"FX2\", 2023, \"Aluminum\"),\n",
        "        Motorcycle(\"Harley-Davidson\", \"Sportster\", 2023, \"V-Twin\"),\n",
        "    ]\n",
        "\n",
        "    print(\"Vehicle Information:\")\n",
        "    for vehicle in vehicles:\n",
        "        print(vehicle.get_info())\n",
        "\n",
        "if __name__ == \"__main__\":\n",
        "    test_vehicles()\n"
      ],
      "metadata": {
        "colab": {
          "base_uri": "https://localhost:8080/"
        },
        "id": "Q6hjXz7cqot-",
        "outputId": "aedef8ce-3b5d-46eb-8a6e-40204da281df"
      },
      "execution_count": 2,
      "outputs": [
        {
          "output_type": "stream",
          "name": "stdout",
          "text": [
            "Vehicle Information:\n",
            "2023 Toyota Camry, 4-door car\n",
            "2023 Trek FX2, Aluminum bicycle\n",
            "2023 Harley-Davidson Sportster, V-Twin motorcycle\n"
          ]
        }
      ]
    }
  ]
}