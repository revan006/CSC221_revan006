{
  "nbformat": 4,
  "nbformat_minor": 0,
  "metadata": {
    "colab": {
      "provenance": [],
      "include_colab_link": true
    },
    "kernelspec": {
      "name": "python3",
      "display_name": "Python 3"
    },
    "language_info": {
      "name": "python"
    }
  },
  "cells": [
    {
      "cell_type": "markdown",
      "metadata": {
        "id": "view-in-github",
        "colab_type": "text"
      },
      "source": [
        "<a href=\"https://colab.research.google.com/github/revan006/CSC221_revan006/blob/main/Assignment20.ipynb\" target=\"_parent\"><img src=\"https://colab.research.google.com/assets/colab-badge.svg\" alt=\"Open In Colab\"/></a>"
      ]
    },
    {
      "cell_type": "markdown",
      "source": [
        "# Assignment 20\n",
        "## CSC 221\n",
        "- Rolando Evangelista\n",
        "\n",
        "### Instructions:\n",
        "Fill in each code cell below the question. We are following along in Chapter 4 of Python Distilled."
      ],
      "metadata": {
        "id": "IAOUzGWE1eDx"
      }
    },
    {
      "cell_type": "code",
      "execution_count": null,
      "metadata": {
        "id": "Gnj3su7i5-lx",
        "colab": {
          "base_uri": "https://localhost:8080/"
        },
        "outputId": "40bf34bf-2970-4d26-f986-6806fd060e17"
      },
      "outputs": [
        {
          "output_type": "stream",
          "name": "stdout",
          "text": [
            "19\n",
            "44.5\n",
            "asdfg13\n"
          ]
        }
      ],
      "source": [
        "# 4.1 Essential Concepts\n",
        "\n",
        "# When we write \"a + b\" in Python, the interpreter tries to execute a.__add__(b)\n",
        "#In Python, when you write an expression like a + b, the interpreter internally calls a special method to perform this operation.\n",
        "#This is known as operator overloading, and the special methods for operators are called magic methods. For the + operator, the magic method is __add__.\n",
        "\n",
        "# Show that this is true by trying the following:\n",
        "a = 6\n",
        "b = 31.5\n",
        "c = 'asdfg'\n",
        "a1 = a.__add__(13)\n",
        "b1 = b.__add__(13)\n",
        "c1 = c.__add__('13')\n",
        "print(a1)\n",
        "print(b1)\n",
        "print(c1)\n",
        "  #a = 6 is an integer (int).\n",
        "  #b = 31.5 is a floating-point number (float).\n",
        "  #c = 'asdfg' is a string (str).\n",
        "# What are the types of a, b, and c?\n",
        "  #a1 = a.__add__(13) adds an integer to another integer.\n",
        "  #b1 = b.__add__(13) adds an integer to a float.\n",
        "  #c1 = c.__add__('13') concatenates two strings.\n",
        "\n",
        "# Explain the results\n",
        "  #a1 will be an integer (int), as it's the sum of two integers.\n",
        "  #b1 will be a float (float), as it's the sum of a float and an integer.\n",
        "  #c1 will be a string (str), as it's the concatenation of two strings."
      ]
    },
    {
      "cell_type": "code",
      "source": [
        "# 4.2 through 4.4 will be covered in the next assignment\n"
      ],
      "metadata": {
        "id": "w2uYd3DO2do6"
      },
      "execution_count": null,
      "outputs": []
    },
    {
      "cell_type": "code",
      "source": [
        "# 4.5 str and repr\n",
        "# How many categpries of printing are shown below for a datetime object?\n",
        "#In Python, when printing objects like a datetime object, there are typically two categories of string representations: str and repr.\n",
        "# What in the Pythion code makes each one get callled?\n",
        "#str: The str() method or using the object directly in a print() statement calls the __str__ method of the object. It's meant to be readable and is often used for user-facing output. In your code, print(d), print(f'{d}'),\n",
        "#repr: The repr() method or using !r in a formatted string calls the __repr__ method of the object. This is supposed to return a string that would reproduce the object if fed to a Python interpreter.\n",
        "#In your code, print(f'{d!r}'), print(repr(d)), and print(d.__repr__()) invoke this form.\n",
        "from datetime import date\n",
        "d = date(2023, 11, 7)\n",
        "\n",
        "#print(d)\n",
        "#print(f'{d}')\n",
        "#print(f'{d!s}')\n",
        "#print(f'{d!r}')\n",
        "#print(str(d))\n",
        "#print(repr(d))\n",
        "#print(d.__str__())\n",
        "#print(d.__repr__())\n"
      ],
      "metadata": {
        "id": "Aa3ylzmV2wNF"
      },
      "execution_count": null,
      "outputs": []
    },
    {
      "cell_type": "code",
      "source": [
        "# 4.6 First-Class Objects\n",
        "# What is the significance of all objects being \"first-class\" in Python?\n",
        "  #In Python, all objects being \"first-class\" means that they can be used without restriction. This includes being passed as arguments to functions, returned from functions, modified, and assigned to variables.\n",
        "  #This concept allows for greater flexibility and dynamic programming paradigms.\n",
        "# Explain by typing in the code to create and use the 'items' dictionary shown in section 4.6.\n",
        "\n",
        "def add(a, b):\n",
        "    return a + b\n",
        "\n",
        "def subtract(a, b):\n",
        "    return a - b\n",
        "\n",
        "items = {\n",
        "    'add': add,\n",
        "    'subtract': subtract\n",
        "}\n",
        "\n",
        "\n",
        "result1 = items['add'](5, 3)\n",
        "result2 = items['subtract'](10, 4)\n",
        "\n",
        "# Explain each of the lines starting with '>>>' in the section.\n",
        "#Each line starting with >>> represents an interactive Python shell command:\n",
        "\n",
        "#items['add'](5, 3): Fetches the add function from items and calls it with arguments 5 and 3.\n",
        "#items['subtract'](10, 4): Fetches the subtract function from items and calls it with arguments 10 and 4.\n",
        "#This demonstrates the first-class nature of Python objects, where functions are treated like any other object. They can be stored in data structures like dictionaries and invoked dynamically."
      ],
      "metadata": {
        "id": "9LRpP06Vsw6n"
      },
      "execution_count": null,
      "outputs": []
    },
    {
      "cell_type": "code",
      "source": [
        "# 4.7 Using None\n",
        "# Write a function that takes two parameters and returns their sum if they are\n",
        "#  integers or returns None if either one is not.\n",
        "\n",
        "# Put in some test code to show that your function works\n",
        "\n",
        "# INSERT YOUR CODE HERE\n",
        "def sum_if_integers(a, b):\n",
        "    if isinstance(a, int) and isinstance(b, int):\n",
        "        return a + b\n",
        "    else:\n",
        "        return None\n",
        "\n",
        "# Test code\n",
        "print(sum_if_integers(3, 4))\n",
        "print(sum_if_integers(3, \"4\"))\n",
        "print(sum_if_integers(3.5, 4))\n"
      ],
      "metadata": {
        "id": "dUhRWGnCtewU",
        "outputId": "7ec0e7b4-a4c1-492f-9eba-78f7adeb6525",
        "colab": {
          "base_uri": "https://localhost:8080/"
        }
      },
      "execution_count": null,
      "outputs": [
        {
          "output_type": "stream",
          "name": "stdout",
          "text": [
            "7\n",
            "None\n",
            "None\n"
          ]
        }
      ]
    },
    {
      "cell_type": "code",
      "source": [
        "# 4.9 Object Protocol\n",
        "# Create a simple object that has methods for:\n",
        "#  __new__\n",
        "#  __init__\n",
        "#  __del__\n",
        "#  __repr__\n",
        "#  __str__\n",
        "\n",
        "# Put in some test code to show how and when each of these 'magic' functions gets called.\n",
        "\n",
        "# INSERT YOUR CODE HERE\n",
        "class MyObject:\n",
        "    def __new__(cls):\n",
        "        print(\"Creating instance (calling __new__)\")\n",
        "        return super().__new__(cls)\n",
        "\n",
        "    def __init__(self):\n",
        "        print(\"Initializing instance (calling __init__)\")\n",
        "\n",
        "    def __del__(self):\n",
        "        print(\"Deleting instance (calling __del__)\")\n",
        "\n",
        "    def __repr__(self):\n",
        "        return \"Representation of MyObject (calling __repr__)\"\n",
        "\n",
        "    def __str__(self):\n",
        "        return \"String representation of MyObject (calling __str__)\"\n",
        "\n",
        "# Test code\n",
        "obj = MyObject()\n",
        "print(repr(obj))\n",
        "print(obj)\n",
        "del obj\n"
      ],
      "metadata": {
        "id": "4M-CQevEt2xQ",
        "outputId": "acdfd302-7133-4af0-fc58-31eb99885c38",
        "colab": {
          "base_uri": "https://localhost:8080/"
        }
      },
      "execution_count": null,
      "outputs": [
        {
          "output_type": "stream",
          "name": "stdout",
          "text": [
            "Creating instance (calling __new__)\n",
            "Initializing instance (calling __init__)\n",
            "Representation of MyObject (calling __repr__)\n",
            "String representation of MyObject (calling __str__)\n",
            "Deleting instance (calling __del__)\n"
          ]
        }
      ]
    }
  ]
}