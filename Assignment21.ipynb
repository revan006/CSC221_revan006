{
  "nbformat": 4,
  "nbformat_minor": 0,
  "metadata": {
    "colab": {
      "provenance": [],
      "include_colab_link": true
    },
    "kernelspec": {
      "name": "python3",
      "display_name": "Python 3"
    },
    "language_info": {
      "name": "python"
    }
  },
  "cells": [
    {
      "cell_type": "markdown",
      "metadata": {
        "id": "view-in-github",
        "colab_type": "text"
      },
      "source": [
        "<a href=\"https://colab.research.google.com/github/revan006/CSC221_revan006/blob/main/Assignment21.ipynb\" target=\"_parent\"><img src=\"https://colab.research.google.com/assets/colab-badge.svg\" alt=\"Open In Colab\"/></a>"
      ]
    },
    {
      "cell_type": "markdown",
      "source": [
        "# Assignment 21\n",
        "## CSC 221\n",
        "- Rolando Evangelista\n",
        "\n",
        "### Instructions:\n",
        "Fill in each code cell below the question. We are following along in Chapter 4 of Python Distilled."
      ],
      "metadata": {
        "id": "IAOUzGWE1eDx"
      }
    },
    {
      "cell_type": "code",
      "execution_count": 3,
      "metadata": {
        "id": "Gnj3su7i5-lx",
        "colab": {
          "base_uri": "https://localhost:8080/"
        },
        "outputId": "60a30eed-b8aa-42f6-e5db-4ae76d90ca2d"
      },
      "outputs": [
        {
          "output_type": "stream",
          "name": "stdout",
          "text": [
            "8\n",
            "Hello, World!\n",
            "Hello, 123\n"
          ]
        }
      ],
      "source": [
        "# 4.2 Object Identity and Type\n",
        "\n",
        "# Make a function that performs differently depending on the types of its inputs\n",
        "# cat(a, b) below will work if you pass in two numbers or two strings\n",
        "# Use isinstance to detect when you are getting a string and an int and\n",
        "# automatically convert the int to a string and return the string!\n",
        "\n",
        "def cat(a, b):\n",
        "    if isinstance(a, str) and isinstance(b, int):\n",
        "        b = str(b)\n",
        "    elif isinstance(a, int) and isinstance(b, str):\n",
        "        a = str(a)\n",
        "    return a + b\n",
        "# INSERT YOUR CODE HERE\n",
        "\n",
        "print(cat(3, 5))\n",
        "print(cat(\"Hello, \", \"World!\"))\n",
        "print(cat(\"Hello, \", 123))\n"
      ]
    },
    {
      "cell_type": "code",
      "source": [
        "# Explain the output of the following code\n",
        "import sys\n",
        "\n",
        "class EmptyClass:\n",
        "    def __init__(self):\n",
        "        print('init')\n",
        "    def __del__(self):\n",
        "        print('del')\n",
        "\n",
        "def print_refcount(x):\n",
        "    print(sys.getrefcount(x))\n",
        "\n",
        "f1 = EmptyClass()\n",
        "print_refcount(f1)\n",
        "f2 = f1\n",
        "print_refcount(f1)\n",
        "f3 = f1\n",
        "print_refcount(f1)\n",
        "\n",
        "del f1\n",
        "print_refcount(f3)\n",
        "del f2\n",
        "print_refcount(f3)\n",
        "del f3\n",
        "\n",
        "# INSERT YOUR EXPLANATION HERE\n",
        "  #This code demonstrates Python's reference counting mechanism and how the __del__ method is called when an object is garbage collected:\n",
        "\n",
        "  #f1 = EmptyClass(): An instance of EmptyClass is created. __init__ is called, printing 'init'. f1 holds a reference to this instance.\n",
        "\n",
        "  #print_refcount(f1): Shows the reference count for f1. Initially, it's 2 because getrefcount also counts the temporary reference as an argument to the function.\n",
        "\n",
        "  #f2 = f1 and f3 = f1: Both f2 and f3 are assigned references to the same instance f1 refers to. The reference count increases with each assignment.\n",
        "\n",
        "  #del f1, del f2, del f3: Sequentially delete references to the instance. After each deletion, print_refcount shows the decreasing reference count.\n",
        "\n",
        "  #After del f3: The reference count drops to 0, triggering garbage collection for the instance, and __del__ is called, printing 'del'.\n",
        "\n",
        "  #The output demonstrates the lifecycle of the object and how Python manages memory via reference counting."
      ],
      "metadata": {
        "colab": {
          "base_uri": "https://localhost:8080/"
        },
        "id": "DKFgqiK-jlZg",
        "outputId": "08bac36d-8d05-48a4-cada-717028bb2894"
      },
      "execution_count": null,
      "outputs": [
        {
          "output_type": "stream",
          "name": "stdout",
          "text": [
            "init\n",
            "4\n",
            "5\n",
            "6\n",
            "5\n",
            "4\n",
            "del\n"
          ]
        }
      ]
    },
    {
      "cell_type": "code",
      "source": [
        "# Section 4.4, Part 1\n",
        "# Explain this output. Why does it seem odd?\n",
        "a = [1, 2, 3]\n",
        "b = a\n",
        "b[1] = 99\n",
        "print(a)\n",
        "print(b)\n",
        "\n",
        "# INSERT YOUR EXPLANATION HERE\n",
        "#it illustrates an important aspect of how Python handles object references:\n",
        "\n",
        "#a = [1, 2, 3]: This creates a list [1, 2, 3] and assigns it to the variable a.\n",
        "#b = a: This does not create a new list. Instead, it creates a new reference b to the same list that a refers to. Both a and b point to the same list in memory.\n",
        "#b[1] = 99: Modifies the list by changing the element at index 1. Since a and b refer to the same list, this change is reflected in both.\n",
        "#print(a) and print(b): Both print [1, 99, 3], showing that the list both a and b refer to has been modified."
      ],
      "metadata": {
        "colab": {
          "base_uri": "https://localhost:8080/"
        },
        "id": "-pBk9F45ke-W",
        "outputId": "f4bad81e-6c8a-4039-b904-703eef679d7a"
      },
      "execution_count": null,
      "outputs": [
        {
          "output_type": "stream",
          "name": "stdout",
          "text": [
            "[1, 99, 3]\n",
            "[1, 99, 3]\n"
          ]
        }
      ]
    },
    {
      "cell_type": "code",
      "source": [
        "# Section 4.4, Part 2\n",
        "# Explain this output. Why is it from Part 1?\n",
        "a = [1, 2, 3]\n",
        "b = a[:]\n",
        "b[1] = 99\n",
        "print(a)\n",
        "print(b)\n",
        "\n",
        "# INSERT YOUR EXPLANATION HERE\n",
        "  #a = [1, 2, 3]: Creates a list [1, 2, 3] and assigns it to a.\n",
        "  #b = a[:]: This creates a new list that is a shallow copy of a and assigns it to b. The [:] slice notation copies all elements of a into a new list.\n",
        "  #b[1] = 99: Modifies the new list b. Since b is a separate object from a, this change does not affect a.\n",
        "  #print(a) prints [1, 2, 3] and print(b) prints [1, 99, 3].\n",
        "  #Unlike Part 1, where a and b referenced the same list, here a and b are two different lists. Hence, a change in one does not affect the other.\n",
        "\n",
        "\n",
        "\n",
        "\n",
        "\n"
      ],
      "metadata": {
        "colab": {
          "base_uri": "https://localhost:8080/"
        },
        "id": "PFG-FWuUnmM6",
        "outputId": "f4ccf08c-e2ba-4bac-d5e4-e91c1d431899"
      },
      "execution_count": null,
      "outputs": [
        {
          "output_type": "stream",
          "name": "stdout",
          "text": [
            "[1, 2, 3]\n",
            "[1, 99, 3]\n"
          ]
        }
      ]
    },
    {
      "cell_type": "code",
      "source": [
        "# Section 4.4, Part 3\n",
        "# Explain this output. Why is it from Part 1?\n",
        "a = [1, 2, 3]\n",
        "b = list(a)\n",
        "b[1] = 99\n",
        "print(a)\n",
        "print(b)\n",
        "\n",
        "# INSERT YOUR EXPLANATION HERE\n",
        "#a = [1, 2, 3]: This line creates a list [1, 2, 3] and assigns it to a.\n",
        "#b = list(a): Creates a new list b that is a copy of a. The list() function constructs a new list from the existing one, resulting in two separate lists in memory.\n",
        "#b[1] = 99: Modifies the new list b. Since b is a separate list from a, this change does not affect a.\n",
        "#print(a) outputs [1, 2, 3], and print(b) outputs [1, 99, 3].\n",
        "#Like in Part 2, a and b are two distinct lists. Therefore, modifying b does not impact a. This demonstrates a different way to create a copy of a list, leading to independent objects."
      ],
      "metadata": {
        "colab": {
          "base_uri": "https://localhost:8080/"
        },
        "id": "gYLWsIv0n1uR",
        "outputId": "d5c53778-404e-486d-e19f-76896eb639ce"
      },
      "execution_count": null,
      "outputs": [
        {
          "output_type": "stream",
          "name": "stdout",
          "text": [
            "[1, 2, 3]\n",
            "[1, 99, 3]\n"
          ]
        }
      ]
    },
    {
      "cell_type": "code",
      "source": [
        "# Section 4.4, Part 4\n",
        "# Now we understand copy vs. reference. What about shallow vs. deep copy?\n",
        "# Here's a shoolow copy. Why are a and b the same?\n",
        "a = [1, [100, 101], 3]\n",
        "b = list(a)\n",
        "b[1][1] = 900\n",
        "print(a)\n",
        "print(b)\n",
        "\n",
        "# INSERT YOUR EXPLANATION HERE\n",
        "#Shallow Copy: b = list(a) creates a shallow copy of a. While b becomes a new list, the elements inside b are references to the same objects as those in a.\n",
        "#Particularly, the sublist [100, 101] in b is still a reference to the same sublist in a.\n",
        "\n",
        "#When b[1][1] = 900 is executed, it modifies the sublist [100, 101] to [100, 900]. This modification is reflected in both a and b because the sublist is shared between them.\n",
        "\n",
        "#Therefore, when printing a and b, they both show the modified sublist, resulting in a and b appearing the same. This behavior highlights the difference between shallow and deep copying.\n",
        "#In a deep copy, all objects are recursively copied, which is not the case here."
      ],
      "metadata": {
        "colab": {
          "base_uri": "https://localhost:8080/"
        },
        "id": "8qAscig2oA7D",
        "outputId": "e9e4e832-9aa6-477f-dda6-61a6403e883c"
      },
      "execution_count": null,
      "outputs": [
        {
          "output_type": "stream",
          "name": "stdout",
          "text": [
            "[1, [100, 900], 3]\n",
            "[1, [100, 900], 3]\n"
          ]
        }
      ]
    },
    {
      "cell_type": "code",
      "source": [
        "# Section 4.4, Part 5\n",
        "# Modify the code from the cell above (repeated here) to perform a deepcopy of a\n",
        "# Explain how that is different.\n",
        "  #A deep copy creates a new compound object and then, recursively, inserts copies into it of the objects found in the original.\n",
        "import copy\n",
        "a = [1, [100, 101], 3]\n",
        "b = copy.deepcopy(a) # Must be modified to do a deepcopy of a! (See text).\n",
        "b[1][1] = 900\n",
        "print(a)\n",
        "print(b)\n",
        "\n",
        "# INSERT YOUR EXPLANATION HERE\n",
        "#Modifying b after the deep copy does not affect a. Unlike a shallow copy, a deep copy does not maintain references to the original object's nested objects.\n",
        "#Therefore, changes to the deep-copied object's nested elements do not reflect in the original object. This is the key difference from the previous example where a shallow copy was used."
      ],
      "metadata": {
        "colab": {
          "base_uri": "https://localhost:8080/"
        },
        "id": "Mc2xAGC-oU3C",
        "outputId": "1d9071a6-d3b1-484a-a4f0-3f6188aed9af"
      },
      "execution_count": 4,
      "outputs": [
        {
          "output_type": "stream",
          "name": "stdout",
          "text": [
            "[1, [100, 101], 3]\n",
            "[1, [100, 900], 3]\n"
          ]
        }
      ]
    }
  ]
}