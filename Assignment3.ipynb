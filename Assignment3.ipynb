{
  "nbformat": 4,
  "nbformat_minor": 0,
  "metadata": {
    "colab": {
      "provenance": [],
      "authorship_tag": "ABX9TyNOKbxQwVm5MEGTbXojTEt7",
      "include_colab_link": true
    },
    "kernelspec": {
      "name": "python3",
      "display_name": "Python 3"
    },
    "language_info": {
      "name": "python"
    }
  },
  "cells": [
    {
      "cell_type": "markdown",
      "metadata": {
        "id": "view-in-github",
        "colab_type": "text"
      },
      "source": [
        "<a href=\"https://colab.research.google.com/github/revan006/CSC221_revan006/blob/main/Assignment3.ipynb\" target=\"_parent\"><img src=\"https://colab.research.google.com/assets/colab-badge.svg\" alt=\"Open In Colab\"/></a>"
      ]
    },
    {
      "cell_type": "code",
      "execution_count": 1,
      "metadata": {
        "colab": {
          "base_uri": "https://localhost:8080/"
        },
        "id": "NBLLW_auNIor",
        "outputId": "c12b64d7-365a-455a-93b2-a9680167b221"
      },
      "outputs": [
        {
          "output_type": "stream",
          "name": "stdout",
          "text": [
            "Hello, Professor Lecky!\n"
          ]
        }
      ],
      "source": [
        "message = \"Hello, Professor Lecky!\"\n",
        "print (message)"
      ]
    },
    {
      "cell_type": "code",
      "source": [
        "message = \"Lynyrd Skynyrd\"\n",
        "print (message)\n",
        "message = \"Free Bird!\"\n",
        "print (message)"
      ],
      "metadata": {
        "colab": {
          "base_uri": "https://localhost:8080/"
        },
        "id": "q17vfRPDNtne",
        "outputId": "67922165-2837-4c76-b1e3-59148e237143"
      },
      "execution_count": 3,
      "outputs": [
        {
          "output_type": "stream",
          "name": "stdout",
          "text": [
            "Lynyrd Skynyrd\n",
            "Free Bird!\n"
          ]
        }
      ]
    },
    {
      "cell_type": "code",
      "source": [
        "greeting_name = \"Hello! Professor Lecky\"\n",
        "print (greeting_name)\n",
        "name = 'rolando evangelista'\n",
        "print (name.title())\n",
        "print(name.upper())\n",
        "print (name.lower())\n",
        "famous_quote = \"Haruki Murakami once said,'You're you, you see, and nobody else. You are you, right? \"\n",
        "print(famous_quote)\n",
        "famous_quote = \"Haruki Murakami's words on self-love\"\n",
        "print (famous_quote)\n",
        "haruki_murakami = \"Thank you for your books\"\n",
        "print(haruki_murakami)\n",
        "famous_person = \"haruki murakami\"\n",
        "print(famous_person)\n",
        "print(famous_person.title())\n",
        "print(famous_person.upper())\n",
        "print(famous_person.lower())\n",
        "print (\"Best DC Hero's:\\n\\tNightwing \\n\\tThe Flash \\n\\tBatman\")\n",
        "different_name = \" Oppenheimer! \"\n",
        "print(different_name)\n",
        "print(different_name.lstrip())\n",
        "print(different_name.rstrip())\n",
        "print(different_name.strip())\n",
        "filename = \"python_notes.txt\"\n",
        "filename.removesuffix(\".txt\")\n",
        "\n"
      ],
      "metadata": {
        "colab": {
          "base_uri": "https://localhost:8080/",
          "height": 365
        },
        "id": "DdLpRy5SOKyj",
        "outputId": "21e5da26-ec73-48b1-d7ab-888391f89edb"
      },
      "execution_count": 33,
      "outputs": [
        {
          "output_type": "stream",
          "name": "stdout",
          "text": [
            "Hello! Professor Lecky\n",
            "Rolando Evangelista\n",
            "ROLANDO EVANGELISTA\n",
            "rolando evangelista\n",
            "Haruki Murakami once said,'You're you, you see, and nobody else. You are you, right? \n",
            "Haruki Murakami's words on self-love\n",
            "Thank you for your books\n",
            "haruki murakami\n",
            "Haruki Murakami\n",
            "HARUKI MURAKAMI\n",
            "haruki murakami\n",
            "Best DC Hero's:\n",
            "\tNightwing \n",
            "\tThe Flash \n",
            "\tBatman\n",
            " Oppenheimer! \n",
            "Oppenheimer! \n",
            " Oppenheimer!\n",
            "Oppenheimer!\n"
          ]
        },
        {
          "output_type": "execute_result",
          "data": {
            "text/plain": [
              "'python_notes'"
            ],
            "application/vnd.google.colaboratory.intrinsic+json": {
              "type": "string"
            }
          },
          "metadata": {},
          "execution_count": 33
        }
      ]
    },
    {
      "cell_type": "code",
      "source": [
        "print(6 + 2)\n",
        "print(4 * 2)\n",
        "print(10 - 2)\n",
        "print(80/10)\n",
        "favorite_number = 5\n",
        "print(\"Hey, if you were wondering what my favorite number is, it's\",favorite_number)"
      ],
      "metadata": {
        "colab": {
          "base_uri": "https://localhost:8080/"
        },
        "id": "rOVAYvvQVcHP",
        "outputId": "8bd2fef7-b1e7-4264-ffce-53440a9cf391"
      },
      "execution_count": 46,
      "outputs": [
        {
          "output_type": "stream",
          "name": "stdout",
          "text": [
            "8\n",
            "8\n",
            "8\n",
            "8.0\n",
            "Hey, if you were wondering what my favorite number is, it's 5\n"
          ]
        }
      ]
    },
    {
      "cell_type": "code",
      "source": [
        "import this"
      ],
      "metadata": {
        "colab": {
          "base_uri": "https://localhost:8080/"
        },
        "id": "7NabMHEOWqck",
        "outputId": "3e433518-0198-447b-bbb3-37a3647fa7e8"
      },
      "execution_count": 47,
      "outputs": [
        {
          "output_type": "stream",
          "name": "stdout",
          "text": [
            "The Zen of Python, by Tim Peters\n",
            "\n",
            "Beautiful is better than ugly.\n",
            "Explicit is better than implicit.\n",
            "Simple is better than complex.\n",
            "Complex is better than complicated.\n",
            "Flat is better than nested.\n",
            "Sparse is better than dense.\n",
            "Readability counts.\n",
            "Special cases aren't special enough to break the rules.\n",
            "Although practicality beats purity.\n",
            "Errors should never pass silently.\n",
            "Unless explicitly silenced.\n",
            "In the face of ambiguity, refuse the temptation to guess.\n",
            "There should be one-- and preferably only one --obvious way to do it.\n",
            "Although that way may not be obvious at first unless you're Dutch.\n",
            "Now is better than never.\n",
            "Although never is often better than *right* now.\n",
            "If the implementation is hard to explain, it's a bad idea.\n",
            "If the implementation is easy to explain, it may be a good idea.\n",
            "Namespaces are one honking great idea -- let's do more of those!\n"
          ]
        }
      ]
    }
  ]
}