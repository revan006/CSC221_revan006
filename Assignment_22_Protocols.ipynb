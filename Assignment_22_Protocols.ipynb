{
  "nbformat": 4,
  "nbformat_minor": 0,
  "metadata": {
    "colab": {
      "provenance": [],
      "authorship_tag": "ABX9TyOEDiZI6oZkwrA7jR6HqHgY",
      "include_colab_link": true
    },
    "kernelspec": {
      "name": "python3",
      "display_name": "Python 3"
    },
    "language_info": {
      "name": "python"
    }
  },
  "cells": [
    {
      "cell_type": "markdown",
      "metadata": {
        "id": "view-in-github",
        "colab_type": "text"
      },
      "source": [
        "<a href=\"https://colab.research.google.com/github/revan006/CSC221_revan006/blob/main/Assignment_22_Protocols.ipynb\" target=\"_parent\"><img src=\"https://colab.research.google.com/assets/colab-badge.svg\" alt=\"Open In Colab\"/></a>"
      ]
    },
    {
      "cell_type": "code",
      "execution_count": 1,
      "metadata": {
        "colab": {
          "base_uri": "https://localhost:8080/"
        },
        "id": "7wlrpsq2xNUZ",
        "outputId": "d3da259a-48eb-40ac-bf50-36fdce175a3e"
      },
      "outputs": [
        {
          "output_type": "stream",
          "name": "stdout",
          "text": [
            "Sorted Vectors: [(1, 2), (2, 3), (4, 4)]\n",
            "Special class test results: 3 4 20\n"
          ]
        }
      ],
      "source": [
        "class Vector2D:\n",
        "    def __init__(self, x, y):\n",
        "        self.x = x\n",
        "        self.y = y\n",
        "\n",
        "    def __repr__(self):\n",
        "        return f\"({self.x}, {self.y})\"\n",
        "\n",
        "\n",
        "    def length(self):\n",
        "        return self.x + self.y\n",
        "\n",
        "    def __lt__(self, other):\n",
        "        return self.length() < other.length()\n",
        "\n",
        "    def __le__(self, other):\n",
        "        return self.length() <= other.length()\n",
        "\n",
        "    def __eq__(self, other):\n",
        "        return self.length() == other.length()\n",
        "\n",
        "    def __ne__(self, other):\n",
        "        return self.length() != other.length()\n",
        "\n",
        "    def __gt__(self, other):\n",
        "        return self.length() > other.length()\n",
        "\n",
        "    def __ge__(self, other):\n",
        "        return self.length() >= other.length()\n",
        "\n",
        "class Special:\n",
        "    def __getitem__(self, key):\n",
        "        return len(key)\n",
        "\n",
        "vectors = [Vector2D(1, 2), Vector2D(4, 4), Vector2D(2, 3)]\n",
        "sorted_vectors = sorted(vectors)\n",
        "\n",
        "s1 = Special()\n",
        "test1 = s1[\"ned\"]\n",
        "test2 = s1[\"ned2\"]\n",
        "test3 = s1[\"ned2\"] * 5\n",
        "print(\"Sorted Vectors:\", sorted_vectors)\n",
        "print(\"Special class test results:\", test1, test2, test3)\n"
      ]
    }
  ]
}