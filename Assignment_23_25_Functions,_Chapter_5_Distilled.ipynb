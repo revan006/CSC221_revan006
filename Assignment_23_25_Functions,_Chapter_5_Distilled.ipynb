{
  "nbformat": 4,
  "nbformat_minor": 0,
  "metadata": {
    "colab": {
      "provenance": [],
      "authorship_tag": "ABX9TyMrhXIgu66uTTEYbTEkwR+a",
      "include_colab_link": true
    },
    "kernelspec": {
      "name": "python3",
      "display_name": "Python 3"
    },
    "language_info": {
      "name": "python"
    }
  },
  "cells": [
    {
      "cell_type": "markdown",
      "metadata": {
        "id": "view-in-github",
        "colab_type": "text"
      },
      "source": [
        "<a href=\"https://colab.research.google.com/github/revan006/CSC221_revan006/blob/main/Assignment_23_25_Functions%2C_Chapter_5_Distilled.ipynb\" target=\"_parent\"><img src=\"https://colab.research.google.com/assets/colab-badge.svg\" alt=\"Open In Colab\"/></a>"
      ]
    },
    {
      "cell_type": "code",
      "execution_count": 1,
      "metadata": {
        "colab": {
          "base_uri": "https://localhost:8080/"
        },
        "id": "mBVHHAI8LVga",
        "outputId": "6130d921-1c84-4327-ba2c-5041797a7e20"
      },
      "outputs": [
        {
          "output_type": "stream",
          "name": "stdout",
          "text": [
            "7\n"
          ]
        }
      ],
      "source": [
        "def func(a, b):\n",
        "    return a + b\n",
        "print(func(3, 4))\n"
      ]
    },
    {
      "cell_type": "code",
      "source": [
        "def func(*s):\n",
        "    return sum(s)\n",
        "\n",
        "print(func(1, 2, 3, 4))\n"
      ],
      "metadata": {
        "colab": {
          "base_uri": "https://localhost:8080/"
        },
        "id": "O6F2s2SNLaQu",
        "outputId": "71e74909-d63c-448d-96bc-7c042ddb1245"
      },
      "execution_count": 2,
      "outputs": [
        {
          "output_type": "stream",
          "name": "stdout",
          "text": [
            "10\n"
          ]
        }
      ]
    },
    {
      "cell_type": "code",
      "source": [
        "def func(**kwargs):\n",
        "    return kwargs\n",
        "\n",
        "print(func(a=1, b=2))\n"
      ],
      "metadata": {
        "colab": {
          "base_uri": "https://localhost:8080/"
        },
        "id": "zYt4usTnLb3o",
        "outputId": "2e73d12f-f319-4f92-d0a3-5ef29f23e7bf"
      },
      "execution_count": 3,
      "outputs": [
        {
          "output_type": "stream",
          "name": "stdout",
          "text": [
            "{'a': 1, 'b': 2}\n"
          ]
        }
      ]
    },
    {
      "cell_type": "code",
      "source": [
        "def func(*args, **kwargs):\n",
        "    result = sum(args) if kwargs.get('operator') == '+' else -sum(args)\n",
        "    return result\n",
        "\n",
        "print(func(1, 2, 3, operator='+'))\n",
        "print(func(1, 2, 3, operator='-'))\n"
      ],
      "metadata": {
        "colab": {
          "base_uri": "https://localhost:8080/"
        },
        "id": "uq0mOLhOLdYB",
        "outputId": "61026757-d5cc-4919-8edf-27dd96c43f95"
      },
      "execution_count": 4,
      "outputs": [
        {
          "output_type": "stream",
          "name": "stdout",
          "text": [
            "6\n",
            "-6\n"
          ]
        }
      ]
    },
    {
      "cell_type": "code",
      "source": [
        "global_var = 10\n",
        "\n",
        "def manipulate_global():\n",
        "    global global_var\n",
        "    global_var += 5\n",
        "    return global_var\n",
        "\n",
        "print(manipulate_global())\n",
        "print(global_var)\n"
      ],
      "metadata": {
        "colab": {
          "base_uri": "https://localhost:8080/"
        },
        "id": "QP6BWj2QLfy5",
        "outputId": "f1fbb261-3247-43b6-c5c2-5456871e114e"
      },
      "execution_count": 5,
      "outputs": [
        {
          "output_type": "stream",
          "name": "stdout",
          "text": [
            "15\n",
            "15\n"
          ]
        }
      ]
    },
    {
      "cell_type": "code",
      "source": [
        "count_vowels = lambda word: sum(1 for char in word if char in 'aeiouAEIOU')\n",
        "words = ['banana', 'apple', 'orange']\n",
        "sorted_words = sorted(words, key=count_vowels)\n",
        "\n",
        "print(sorted_words)\n"
      ],
      "metadata": {
        "colab": {
          "base_uri": "https://localhost:8080/"
        },
        "id": "IAy39EyTLiJO",
        "outputId": "067f8e8e-bd8c-4547-d15c-a6030e116abc"
      },
      "execution_count": 6,
      "outputs": [
        {
          "output_type": "stream",
          "name": "stdout",
          "text": [
            "['apple', 'banana', 'orange']\n"
          ]
        }
      ]
    },
    {
      "cell_type": "code",
      "source": [
        "def logger(func):\n",
        "    def wrapper(*args, **kwargs):\n",
        "        result = func(*args, **kwargs)\n",
        "        with open('log.txt', 'a') as file:\n",
        "            file.write(f'{func.__name__}, args: {args}, kwargs: {kwargs}, result: {result}\\n')\n",
        "        return result\n",
        "    return wrapper\n",
        "\n",
        "@logger\n",
        "def add(a, b):\n",
        "    return a + b\n",
        "\n",
        "print(add(5, 3))\n"
      ],
      "metadata": {
        "colab": {
          "base_uri": "https://localhost:8080/"
        },
        "id": "UKizxNESLnCj",
        "outputId": "1c67bca7-c71f-4f82-be0c-e90e4cb9bc82"
      },
      "execution_count": 7,
      "outputs": [
        {
          "output_type": "stream",
          "name": "stdout",
          "text": [
            "8\n"
          ]
        }
      ]
    },
    {
      "cell_type": "code",
      "source": [
        "from functools import reduce\n",
        "\n",
        "\n",
        "numbers = [1, 2, 3, 4, 5]\n",
        "squared = map(lambda x: x**2, numbers)\n",
        "\n",
        "even = filter(lambda x: x % 2 == 0, numbers)\n",
        "\n",
        "summed = reduce(lambda a, b: a + b, numbers)\n",
        "\n",
        "print(list(squared))\n",
        "print(list(even))\n",
        "print(summed)\n"
      ],
      "metadata": {
        "colab": {
          "base_uri": "https://localhost:8080/"
        },
        "id": "6cjQaxoILoOY",
        "outputId": "d9717735-a2b5-4859-e9f2-7c86d5dae670"
      },
      "execution_count": 8,
      "outputs": [
        {
          "output_type": "stream",
          "name": "stdout",
          "text": [
            "[1, 4, 9, 16, 25]\n",
            "[2, 4]\n",
            "15\n"
          ]
        }
      ]
    },
    {
      "cell_type": "code",
      "source": [
        "while True:\n",
        "    expr = input(\"Enter an expression (or 'quit' to exit): \")\n",
        "    if expr == 'quit':\n",
        "        break\n",
        "    try:\n",
        "        exec(f\"print({expr})\")\n",
        "    except Exception as e:\n",
        "        print(f\"Error: {e}\")\n"
      ],
      "metadata": {
        "id": "D1u75mKhLp26"
      },
      "execution_count": null,
      "outputs": []
    }
  ]
}