{
  "nbformat": 4,
  "nbformat_minor": 0,
  "metadata": {
    "colab": {
      "provenance": [],
      "authorship_tag": "ABX9TyM/vFJyCl4evCa+xYUX70tH",
      "include_colab_link": true
    },
    "kernelspec": {
      "name": "python3",
      "display_name": "Python 3"
    },
    "language_info": {
      "name": "python"
    }
  },
  "cells": [
    {
      "cell_type": "markdown",
      "metadata": {
        "id": "view-in-github",
        "colab_type": "text"
      },
      "source": [
        "<a href=\"https://colab.research.google.com/github/revan006/CSC221_revan006/blob/main/Assignment_4.ipynb\" target=\"_parent\"><img src=\"https://colab.research.google.com/assets/colab-badge.svg\" alt=\"Open In Colab\"/></a>"
      ]
    },
    {
      "cell_type": "code",
      "execution_count": 13,
      "metadata": {
        "colab": {
          "base_uri": "https://localhost:8080/"
        },
        "id": "sJSnSSLVHKhy",
        "outputId": "3bc32b91-0f92-4835-a33a-439a5b12460e"
      },
      "outputs": [
        {
          "output_type": "stream",
          "name": "stdout",
          "text": [
            "Chris\n",
            "Jayden\n",
            "Braden\n",
            "Dan\n",
            "Zach\n",
            "Josh\n",
            "Ethan\n",
            "Hello! Chris\n",
            "Hello! Josh\n",
            "Hello! Braden\n",
            "Hello! Dan\n",
            "Hello! Zach\n",
            "Hello! Josh\n",
            "Hello! Ethan\n",
            "I really want to drive a Toyota Ae 86\n",
            "I really want to drive a Mazda Rx-7\n"
          ]
        }
      ],
      "source": [
        "#3-1 Names:\n",
        "names = ['Chris', 'Jayden', 'Braden', 'Dan', 'Zach', 'Josh', 'Ethan']\n",
        "print (names[0])\n",
        "print (names[1])\n",
        "print (names[2])\n",
        "print (names[3])\n",
        "print (names[4])\n",
        "print (names[5])\n",
        "print (names[6])\n",
        "#3-2 Greetings:\n",
        "message_c = f\"Hello! {names [0].title()}\"\n",
        "message_j = f\"Hello! {names [1].title()}\"\n",
        "message_b = f\"Hello! {names [2].title()}\"\n",
        "message_d = f\"Hello! {names [3].title()}\"\n",
        "message_z = f\"Hello! {names [4].title()}\"\n",
        "message_j = f\"Hello! {names [5].title()}\"\n",
        "message_e = f\"Hello! {names [6].title()}\"\n",
        "print (message_c)\n",
        "print (message_j)\n",
        "print (message_b)\n",
        "print (message_d)\n",
        "print (message_z)\n",
        "print (message_j)\n",
        "print (message_e)\n",
        "#3-3 Your Own list\n",
        "mod_transpo = ['Toyota AE 86', 'Mazda RX-7']\n",
        "message_t = f\"I really want to drive a {mod_transpo[0].title()}\"\n",
        "message_m = f\"I really want to drive a {mod_transpo[1].title()}\"\n",
        "print (message_t)\n",
        "print (message_m)"
      ]
    },
    {
      "cell_type": "code",
      "source": [
        "#3-4 Guest List\n",
        "din_din = [\"Heath Ledger\", \"Robin Williams\", \"Oppenheimer\"]\n",
        "inv = f'Hello! {din_din[0]} I would formally like to invite you to dinner'\n",
        "din_r = f\"Hello! {din_din [1]} I would formally like to invite you to dinner\"\n",
        "din_o = f'Hello! {din_din[2]} I would formally like to invit you to dinner'\n",
        "print (inv)\n",
        "print (din_r)\n",
        "print (din_o)\n",
        "#3-5 Changing Guest List\n",
        "unav = ('Heath Ledger')\n",
        "din_din.remove (unav)\n",
        "print (din_din)\n",
        "print (f'\\n Unfortunately {unav.title()} will not be joining us today')\n",
        "#3-6 More Guests\n",
        "print (\"Great News! We were able to find a bigger table allowing me to invite more people.\")\n",
        "din_din.insert(0, 'Michael Jackson')\n",
        "din_din.insert (2, 'Mike Tyson')\n",
        "din_din.append('Michael Jordan')\n",
        "print (din_din)\n",
        "uninvited = din_din.pop(2)\n",
        "univited = din_din.pop(1)\n",
        "uninvited_2 = din_din.pop(0)\n",
        "print (f'Hello! {uninvited} I regret to inform you that due to unforseen circumstances I am unable to host you.')\n",
        "print (f'Hello! {univited} I regret to inform you that due to unforseen circumstances I am unable to host you.')\n",
        "print (f'Hello! {uninvited_2} I regret to inform you thta due to unforseen circumstances I am unable to host you.')\n",
        "print (din_din)\n",
        "#3-9 dinner guests\n",
        "len(din_din)\n"
      ],
      "metadata": {
        "colab": {
          "base_uri": "https://localhost:8080/"
        },
        "id": "oX9qERSrMWK-",
        "outputId": "83874902-93f1-4fcb-f838-fb1fdd6d1af2"
      },
      "execution_count": 49,
      "outputs": [
        {
          "output_type": "stream",
          "name": "stdout",
          "text": [
            "Hello! Heath Ledger I would formally like to invite you to dinner\n",
            "Hello! Robin Williams I would formally like to invite you to dinner\n",
            "Hello! Oppenheimer I would formally like to invit you to dinner\n",
            "['Robin Williams', 'Oppenheimer']\n",
            "\n",
            " Unfortunately Heath Ledger will not be joining us today\n",
            "Great News! We were able to find a bigger table allowing me to invite more people.\n",
            "['Michael Jackson', 'Robin Williams', 'Mike Tyson', 'Oppenheimer', 'Michael Jordan']\n",
            "Hello! Mike Tyson I regret to inform you that due to unforseen circumstances I am unable to host you.\n",
            "Hello! Robin Williams I regret to inform you that due to unforseen circumstances I am unable to host you.\n",
            "Hello! Michael Jackson I regret to inform you thta due to unforseen circumstances I am unable to host you.\n",
            "['Oppenheimer', 'Michael Jordan']\n"
          ]
        },
        {
          "output_type": "execute_result",
          "data": {
            "text/plain": [
              "2"
            ]
          },
          "metadata": {},
          "execution_count": 49
        }
      ]
    },
    {
      "cell_type": "code",
      "source": [
        "#3-10\n",
        "colors = ['red', 'blue','green']\n",
        "print (colors[0])\n",
        "not_fav = f'my favorite color is {colors[2]}'\n",
        "print (not_fav)\n",
        "blnk = ('red')\n",
        "colors.remove (blnk)\n",
        "print (colors)\n",
        "print (f'My least favorite color is {blnk}')\n",
        "colors.insert(0, 'yellow')\n",
        "colors.append('periwinkle')\n",
        "print(colors)\n",
        "least_fav = colors.pop(0)\n",
        "print(f'My other least favorite color is {least_fav}')\n",
        "print (colors)\n",
        "len (colors)\n",
        "print(sorted(colors))\n",
        "colors.sort (reverse=True)\n",
        "colors.reverse()\n",
        "print (colors)\n",
        "colors.sort()\n",
        "print(colors)\n"
      ],
      "metadata": {
        "colab": {
          "base_uri": "https://localhost:8080/"
        },
        "id": "cJJ1Qyf-ZDD1",
        "outputId": "266c087f-a7ea-4de5-c5cd-137423f77b48"
      },
      "execution_count": 56,
      "outputs": [
        {
          "output_type": "stream",
          "name": "stdout",
          "text": [
            "red\n",
            "my favorite color is green\n",
            "['blue', 'green']\n",
            "My least favorite color is red\n",
            "['yellow', 'blue', 'green', 'periwinkle']\n",
            "My other least favorite color is yellow\n",
            "['blue', 'green', 'periwinkle']\n",
            "['blue', 'green', 'periwinkle']\n",
            "['blue', 'green', 'periwinkle']\n",
            "['blue', 'green', 'periwinkle']\n"
          ]
        }
      ]
    },
    {
      "cell_type": "code",
      "source": [
        "#3-8 Seeing the World\n",
        "wrld = ['greece','netherlands','phillipines','japan','china']\n",
        "print (wrld)\n",
        "print(sorted(wrld))\n",
        "print (wrld)\n",
        "wrld.sort(reverse=True)\n",
        "print (wrld)\n",
        "wrld.reverse()\n",
        "print(wrld)\n",
        "wrld.sort()\n",
        "wrld.sort()\n",
        "print(wrld)"
      ],
      "metadata": {
        "colab": {
          "base_uri": "https://localhost:8080/"
        },
        "id": "8CP2qpjpWk47",
        "outputId": "b95cfe00-cf81-4257-85c5-8ad039ea080c"
      },
      "execution_count": 48,
      "outputs": [
        {
          "output_type": "stream",
          "name": "stdout",
          "text": [
            "['greece', 'netherlands', 'phillipines', 'japan', 'china']\n",
            "['china', 'greece', 'japan', 'netherlands', 'phillipines']\n",
            "['greece', 'netherlands', 'phillipines', 'japan', 'china']\n",
            "['phillipines', 'netherlands', 'japan', 'greece', 'china']\n",
            "['china', 'greece', 'japan', 'netherlands', 'phillipines']\n",
            "['china', 'greece', 'japan', 'netherlands', 'phillipines']\n"
          ]
        }
      ]
    },
    {
      "cell_type": "code",
      "source": [
        "for num in range(60, 86):\n",
        "    if num % 7 == 0:\n",
        "        cube = num ** 3\n",
        "        print(f\"The cube of {num} is {cube}\")"
      ],
      "metadata": {
        "colab": {
          "base_uri": "https://localhost:8080/"
        },
        "id": "Qw46qn9Ab9xv",
        "outputId": "eb40a42d-af50-48a1-82bc-9a0e953a33c2"
      },
      "execution_count": 57,
      "outputs": [
        {
          "output_type": "stream",
          "name": "stdout",
          "text": [
            "The cube of 63 is 250047\n",
            "The cube of 70 is 343000\n",
            "The cube of 77 is 456533\n",
            "The cube of 84 is 592704\n"
          ]
        }
      ]
    },
    {
      "cell_type": "code",
      "source": [
        "x_values = [40, 50, 120, -8, 6]\n",
        "x_values = []\n",
        "for x in x_values:\n",
        "    y = 7.4 * x + 51\n",
        "    y_values.append(y)\n",
        "for x, y in zip(x_values, y_values):\n",
        "    print(f\"For x = {x}, y = {y}\")"
      ],
      "metadata": {
        "colab": {
          "base_uri": "https://localhost:8080/"
        },
        "id": "q3sFlbPDef8q",
        "outputId": "5329303c-4974-459a-be03-b0341a0e501b"
      },
      "execution_count": 58,
      "outputs": [
        {
          "output_type": "stream",
          "name": "stdout",
          "text": [
            "For x = 40, y = 347.0\n",
            "For x = 50, y = 421.0\n",
            "For x = 120, y = 939.0\n",
            "For x = -8, y = -8.200000000000003\n",
            "For x = 6, y = 95.4\n"
          ]
        }
      ]
    }
  ]
}