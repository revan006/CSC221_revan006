{
  "nbformat": 4,
  "nbformat_minor": 0,
  "metadata": {
    "colab": {
      "provenance": [],
      "authorship_tag": "ABX9TyO3eJ3WfeybBWl7d+6aZ1Jz",
      "include_colab_link": true
    },
    "kernelspec": {
      "name": "python3",
      "display_name": "Python 3"
    },
    "language_info": {
      "name": "python"
    }
  },
  "cells": [
    {
      "cell_type": "markdown",
      "metadata": {
        "id": "view-in-github",
        "colab_type": "text"
      },
      "source": [
        "<a href=\"https://colab.research.google.com/github/revan006/CSC221_revan006/blob/main/Assignment_5.ipynb\" target=\"_parent\"><img src=\"https://colab.research.google.com/assets/colab-badge.svg\" alt=\"Open In Colab\"/></a>"
      ]
    },
    {
      "cell_type": "code",
      "execution_count": null,
      "metadata": {
        "colab": {
          "base_uri": "https://localhost:8080/"
        },
        "id": "rD-YZDcgOOQw",
        "outputId": "8b7059ac-f395-4a08-e9eb-69967ea26c65"
      },
      "outputs": [
        {
          "output_type": "stream",
          "name": "stdout",
          "text": [
            "I like Supreme pizzas\n",
            "I like Margarita pizzas\n",
            "I like Bruchetta pizzas\n",
            "I like Veggie pizzas\n",
            "They're really good pizzas\n"
          ]
        }
      ],
      "source": [
        "#4-1\n",
        "pizza = ['supreme','margarita','bruchetta','veggie']\n",
        "for pizza in pizza:\n",
        "    print(\"I like\",pizza.title(), \"pizzas\")\n",
        "print(\"They're really good pizzas\")\n",
        "\n"
      ]
    },
    {
      "cell_type": "code",
      "source": [
        "#4-2\n",
        "animals = ['lion', 'tiger','cheetah']\n",
        "for animals in animals:\n",
        "  print('The', animals.title(),'is not only ferocious predators but big cats')\n",
        "print('All these animals almost compare to a house cat!')"
      ],
      "metadata": {
        "colab": {
          "base_uri": "https://localhost:8080/"
        },
        "id": "J-UvgP5BO1fr",
        "outputId": "9503b3bb-fcc7-4981-fb92-36ceeb8b0da2"
      },
      "execution_count": null,
      "outputs": [
        {
          "output_type": "stream",
          "name": "stdout",
          "text": [
            "The Lion is not only ferocious predators but big cats\n",
            "The Tiger is not only ferocious predators but big cats\n",
            "The Cheetah is not only ferocious predators but big cats\n",
            "All these animals almost compare to a house cat!\n"
          ]
        }
      ]
    },
    {
      "cell_type": "code",
      "source": [
        "#4-3\n",
        "for value in range(1,101):\n",
        "  print (value)\n",
        "#4-4\n",
        "million = list(range(1,101))\n",
        "print (million)\n",
        "#4-5\n",
        "min(million)\n",
        "max(million)\n",
        "sum(million)\n",
        "#4-6\n",
        "odd_numbers = list(range(1,21,2))\n",
        "for odd_numbers in range (1,21,2):\n",
        "  print(odd_numbers)\n",
        "#4-7\n",
        "squares =[]\n",
        "for value in range (3,30):\n",
        "  square = value**2\n",
        "  squares.append(square)\n",
        "print(squares)\n",
        "#4-8\n",
        "cube =[]\n",
        "for value in range(1,11):\n",
        "  cubed = value**3\n",
        "  cube.append(cubed)\n",
        "print(cube)\n",
        "#4-9\n",
        "cubes = [value**3 for value in range (1,11)]\n",
        "print (cubes)"
      ],
      "metadata": {
        "colab": {
          "base_uri": "https://localhost:8080/"
        },
        "id": "uPa2ZGH-GH6Z",
        "outputId": "fed13305-5fe5-4475-c070-89aaa37eb985"
      },
      "execution_count": null,
      "outputs": [
        {
          "output_type": "stream",
          "name": "stdout",
          "text": [
            "1\n",
            "2\n",
            "3\n",
            "4\n",
            "5\n",
            "6\n",
            "7\n",
            "8\n",
            "9\n",
            "10\n",
            "11\n",
            "12\n",
            "13\n",
            "14\n",
            "15\n",
            "16\n",
            "17\n",
            "18\n",
            "19\n",
            "20\n",
            "21\n",
            "22\n",
            "23\n",
            "24\n",
            "25\n",
            "26\n",
            "27\n",
            "28\n",
            "29\n",
            "30\n",
            "31\n",
            "32\n",
            "33\n",
            "34\n",
            "35\n",
            "36\n",
            "37\n",
            "38\n",
            "39\n",
            "40\n",
            "41\n",
            "42\n",
            "43\n",
            "44\n",
            "45\n",
            "46\n",
            "47\n",
            "48\n",
            "49\n",
            "50\n",
            "51\n",
            "52\n",
            "53\n",
            "54\n",
            "55\n",
            "56\n",
            "57\n",
            "58\n",
            "59\n",
            "60\n",
            "61\n",
            "62\n",
            "63\n",
            "64\n",
            "65\n",
            "66\n",
            "67\n",
            "68\n",
            "69\n",
            "70\n",
            "71\n",
            "72\n",
            "73\n",
            "74\n",
            "75\n",
            "76\n",
            "77\n",
            "78\n",
            "79\n",
            "80\n",
            "81\n",
            "82\n",
            "83\n",
            "84\n",
            "85\n",
            "86\n",
            "87\n",
            "88\n",
            "89\n",
            "90\n",
            "91\n",
            "92\n",
            "93\n",
            "94\n",
            "95\n",
            "96\n",
            "97\n",
            "98\n",
            "99\n",
            "100\n",
            "[1, 2, 3, 4, 5, 6, 7, 8, 9, 10, 11, 12, 13, 14, 15, 16, 17, 18, 19, 20, 21, 22, 23, 24, 25, 26, 27, 28, 29, 30, 31, 32, 33, 34, 35, 36, 37, 38, 39, 40, 41, 42, 43, 44, 45, 46, 47, 48, 49, 50, 51, 52, 53, 54, 55, 56, 57, 58, 59, 60, 61, 62, 63, 64, 65, 66, 67, 68, 69, 70, 71, 72, 73, 74, 75, 76, 77, 78, 79, 80, 81, 82, 83, 84, 85, 86, 87, 88, 89, 90, 91, 92, 93, 94, 95, 96, 97, 98, 99, 100]\n",
            "1\n",
            "3\n",
            "5\n",
            "7\n",
            "9\n",
            "11\n",
            "13\n",
            "15\n",
            "17\n",
            "19\n",
            "[9, 16, 25, 36, 49, 64, 81, 100, 121, 144, 169, 196, 225, 256, 289, 324, 361, 400, 441, 484, 529, 576, 625, 676, 729, 784, 841]\n",
            "[1, 8, 27, 64, 125, 216, 343, 512, 729, 1000]\n",
            "[1, 8, 27, 64, 125, 216, 343, 512, 729, 1000]\n"
          ]
        }
      ]
    },
    {
      "cell_type": "code",
      "source": [
        "#4-10\n",
        "name = ['book','phone','television','laptop','game','car','home','bike','cup']\n",
        "print(name[0:3])\n",
        "print(name[3:6])\n",
        "print(name[6:9])\n"
      ],
      "metadata": {
        "colab": {
          "base_uri": "https://localhost:8080/"
        },
        "id": "39huTzBvpfqK",
        "outputId": "7d23bec2-4100-4fbf-a596-9ce7609b08b1"
      },
      "execution_count": null,
      "outputs": [
        {
          "output_type": "stream",
          "name": "stdout",
          "text": [
            "['book', 'phone', 'television']\n",
            "['laptop', 'game', 'car']\n",
            "['home', 'bike', 'cup']\n"
          ]
        }
      ]
    },
    {
      "cell_type": "code",
      "source": [
        "#4-11\n",
        "my_pizza = ['bruchetta','supreme','margarita','veggie']\n",
        "friend_pizza = my_pizza [:]\n",
        "friend_pizza.append('buffalo chicken')\n",
        "for my_pizza in my_pizza:\n",
        "  print(\"My favorite pizza are:\", my_pizza.title())\n",
        "for friend_pizza in friend_pizza:\n",
        "           print (\"My friend's favorite pizza are:\",friend_pizza.title())\n"
      ],
      "metadata": {
        "colab": {
          "base_uri": "https://localhost:8080/"
        },
        "id": "pwh3NBBBJ_Bm",
        "outputId": "141af1cf-9bb2-47d9-a42c-2cddb6bdf09b"
      },
      "execution_count": null,
      "outputs": [
        {
          "output_type": "stream",
          "name": "stdout",
          "text": [
            "My favorite pizza are: Bruchetta\n",
            "My favorite pizza are: Supreme\n",
            "My favorite pizza are: Margarita\n",
            "My favorite pizza are: Veggie\n",
            "My friend's favorite pizza are: Bruchetta\n",
            "My friend's favorite pizza are: Supreme\n",
            "My friend's favorite pizza are: Margarita\n",
            "My friend's favorite pizza are: Veggie\n",
            "My friend's favorite pizza are: Buffalo Chicken\n"
          ]
        }
      ]
    },
    {
      "cell_type": "code",
      "source": [
        "#4-12\n",
        "food = ['pizza','falafel','carrot cake']\n",
        "friend_food = food[:]\n",
        "for food in food:\n",
        "  print('Some of what I like are:', food.title())\n",
        "for friend_food in friend_food:\n",
        "  print('Some of what my friend likes are:', friend_food.title())"
      ],
      "metadata": {
        "colab": {
          "base_uri": "https://localhost:8080/"
        },
        "id": "2S5ukeUJNymG",
        "outputId": "ecf8fa07-ab67-4134-fd9d-b31583d10237"
      },
      "execution_count": null,
      "outputs": [
        {
          "output_type": "stream",
          "name": "stdout",
          "text": [
            "Some of what I like are: Pizza\n",
            "Some of what I like are: Falafel\n",
            "Some of what I like are: Carrot Cake\n",
            "Some of what my friend likes are: Pizza\n",
            "Some of what my friend likes are: Falafel\n",
            "Some of what my friend likes are: Carrot Cake\n"
          ]
        }
      ]
    },
    {
      "cell_type": "code",
      "source": [
        "#4-13\n",
        "buffet_food = ('pasta','chicken','fruits','asian','burgers')\n",
        "for buffet in buffet_food:\n",
        "  print(buffet_food)\n",
        "buffet_food = ('pasta','turkey','vegetables','asian','burgers')\n",
        "print('\\n Modified items:')\n",
        "for buffet in buffet_food:\n",
        "  print(buffet_food)"
      ],
      "metadata": {
        "colab": {
          "base_uri": "https://localhost:8080/"
        },
        "id": "KZpPzEpQOkJY",
        "outputId": "03ad0de4-866f-49b9-bc22-e1beadf54695"
      },
      "execution_count": null,
      "outputs": [
        {
          "output_type": "stream",
          "name": "stdout",
          "text": [
            "('pasta', 'chicken', 'fruits', 'asian', 'burgers')\n",
            "('pasta', 'chicken', 'fruits', 'asian', 'burgers')\n",
            "('pasta', 'chicken', 'fruits', 'asian', 'burgers')\n",
            "('pasta', 'chicken', 'fruits', 'asian', 'burgers')\n",
            "('pasta', 'chicken', 'fruits', 'asian', 'burgers')\n",
            "\n",
            " Modified items:\n",
            "('pasta', 'turkey', 'vegetables', 'asian', 'burgers')\n",
            "('pasta', 'turkey', 'vegetables', 'asian', 'burgers')\n",
            "('pasta', 'turkey', 'vegetables', 'asian', 'burgers')\n",
            "('pasta', 'turkey', 'vegetables', 'asian', 'burgers')\n",
            "('pasta', 'turkey', 'vegetables', 'asian', 'burgers')\n"
          ]
        }
      ]
    },
    {
      "cell_type": "code",
      "source": [
        "\n",
        "def factorial(n):\n",
        "  number = [i for i in range (1,n +1)]\n",
        "  product = 1\n",
        "  for n in number:\n",
        "    product += n\n",
        "  return product\n",
        "print(factorial(5))\n",
        "print(factorial(10))\n",
        "print(factorial(20))\n",
        "print(factorial(50))\n",
        "\n"
      ],
      "metadata": {
        "colab": {
          "base_uri": "https://localhost:8080/"
        },
        "id": "G6opV4wrZlyi",
        "outputId": "1dcbfda2-cbb3-4ebe-8d54-535d838a0f37"
      },
      "execution_count": 2,
      "outputs": [
        {
          "output_type": "stream",
          "name": "stdout",
          "text": [
            "16\n",
            "56\n",
            "211\n",
            "1276\n"
          ]
        }
      ]
    },
    {
      "cell_type": "code",
      "source": [
        "def special_factorial(n):\n",
        "    numbers = [i for i in range(1, n + 1)]\n",
        "\n",
        "    if 4 in numbers:\n",
        "        numbers.remove(4)\n",
        "    if 13 in numbers:\n",
        "        numbers.remove(13)\n",
        "    if 22 in numbers:\n",
        "        numbers.remove(22)\n",
        "\n",
        "    result = 1\n",
        "\n",
        "    for num in numbers:\n",
        "        result *= num\n",
        "\n",
        "    return result\n",
        "\n",
        "\n",
        "print(special_factorial(5))\n",
        "print(special_factorial(10))\n",
        "print(special_factorial(20))\n",
        "print(special_factorial(50))"
      ],
      "metadata": {
        "colab": {
          "base_uri": "https://localhost:8080/"
        },
        "id": "J50cXWdtLM5k",
        "outputId": "d60316ee-6f20-422b-8763-936f279147ff"
      },
      "execution_count": 13,
      "outputs": [
        {
          "output_type": "stream",
          "name": "stdout",
          "text": [
            "30\n",
            "907200\n",
            "46786577080320000\n",
            "26585745805693512275885146998308364374455980392448000000000000\n"
          ]
        }
      ]
    }
  ]
}