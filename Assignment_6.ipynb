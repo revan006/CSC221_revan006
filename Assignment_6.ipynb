{
  "nbformat": 4,
  "nbformat_minor": 0,
  "metadata": {
    "colab": {
      "provenance": [],
      "authorship_tag": "ABX9TyMrHyHWw+2uYwY5znQ6Qz+4",
      "include_colab_link": true
    },
    "kernelspec": {
      "name": "python3",
      "display_name": "Python 3"
    },
    "language_info": {
      "name": "python"
    }
  },
  "cells": [
    {
      "cell_type": "markdown",
      "metadata": {
        "id": "view-in-github",
        "colab_type": "text"
      },
      "source": [
        "<a href=\"https://colab.research.google.com/github/revan006/CSC221_revan006/blob/main/Assignment_6.ipynb\" target=\"_parent\"><img src=\"https://colab.research.google.com/assets/colab-badge.svg\" alt=\"Open In Colab\"/></a>"
      ]
    },
    {
      "cell_type": "code",
      "execution_count": 10,
      "metadata": {
        "colab": {
          "base_uri": "https://localhost:8080/"
        },
        "id": "qnm8DYSuMekt",
        "outputId": "279f96a8-1d4c-44d4-fd89-3bd1d26614a9"
      },
      "outputs": [
        {
          "output_type": "stream",
          "name": "stdout",
          "text": [
            "'Is cat == 'tabby'? I predict True.\n",
            "True\n",
            "Does car == 'truino?' I predict true.\n",
            "True\n",
            "Does dog == 'parrot' I predict false\n",
            "False\n",
            "Thats a nice Car! FORD MUSTANG\n",
            "You're old enough! \n",
            "Bring the charcuterie!\n"
          ]
        }
      ],
      "source": [
        "#5-1\n",
        "cat = 'tabby'\n",
        "print(\"'Is cat == 'tabby'? I predict True.\")\n",
        "print (cat =='tabby')\n",
        "#1\n",
        "car = 'truino'\n",
        "print (\"Does car == 'truino?' I predict true.\")\n",
        "print (car == 'truino')\n",
        "#2\n",
        "dog = 'parrot'\n",
        "print (\"Does dog == 'parrot' I predict false\")\n",
        "print (dog != \"parrot\")\n",
        "#5-2\n",
        "cars = [\"toyota camry\", \"honda civic\", \"ford mustang\", \"chevrolet corvette\", \"tesla model 3\"]\n",
        "for car in cars:\n",
        "  if car == 'ford mustang':\n",
        "    print (\"Thats a nice Car!\",car.upper())\n",
        "age = 12\n",
        "age = 18\n",
        "age = 25\n",
        "if age == 18 or 25:\n",
        "  print (\"You're old enough! \")\n",
        "party_items = 'drinks', 'chips', 'cake'\n",
        "if party_items != 'charcuterie':\n",
        "  print ('Bring the charcuterie!')\n",
        "\n",
        "\n",
        "\n"
      ]
    },
    {
      "cell_type": "code",
      "source": [
        "#5-3\n",
        "alien_color = 'green', 'yellow', 'red'\n",
        "for alien_color in alien_color:\n",
        "  if alien_color == 'green':\n",
        "    print('You Just Earned 5 Points!')\n",
        "alien_color = 'green', 'yellow', 'red'\n",
        "for alien_color in alien_color:\n",
        "  if alien_color != 'green':\n",
        "    print('You Failed!')"
      ],
      "metadata": {
        "colab": {
          "base_uri": "https://localhost:8080/"
        },
        "id": "8xWMxCb-Tmc5",
        "outputId": "69f38a69-f5ac-4a9d-8469-32fa987dee16"
      },
      "execution_count": 14,
      "outputs": [
        {
          "output_type": "stream",
          "name": "stdout",
          "text": [
            "You Just Earned 5 Points!\n",
            "You Failed!\n",
            "You Failed!\n"
          ]
        }
      ]
    },
    {
      "cell_type": "code",
      "source": [
        "#5-4\n",
        "alien_color = 'green', 'purple' , 'orange'\n",
        "for alien_color in alien_color:\n",
        "  if alien_color == 'green':\n",
        "    print('You just earned 5 points!')\n",
        "  else:\n",
        "    print(\"You just earned 10 points!\")"
      ],
      "metadata": {
        "colab": {
          "base_uri": "https://localhost:8080/"
        },
        "id": "R4MxGL79Uh3y",
        "outputId": "cdfc3ca5-8069-4720-ee6c-fb0d3257cf0b"
      },
      "execution_count": 15,
      "outputs": [
        {
          "output_type": "stream",
          "name": "stdout",
          "text": [
            "You just earned 5 points!\n",
            "You just earned 10 points!\n",
            "You just earned 10 points!\n"
          ]
        }
      ]
    },
    {
      "cell_type": "code",
      "source": [
        "#5-5\n",
        "alien_color = 'green', 'yellow', 'red'\n",
        "for alien_color in alien_color:\n",
        "  if alien_color == 'green':\n",
        "    print(\"You just earned 5 points\")\n",
        "  if alien_color == 'yellow':\n",
        "    print('You just earned 10 points')\n",
        "  if alien_color == 'red':\n",
        "    print('You just earned 15 points')\n"
      ],
      "metadata": {
        "colab": {
          "base_uri": "https://localhost:8080/"
        },
        "id": "hW46AHgNVFWW",
        "outputId": "453da327-f720-467d-838b-3f609d48b741"
      },
      "execution_count": 16,
      "outputs": [
        {
          "output_type": "stream",
          "name": "stdout",
          "text": [
            "You just earned 5 points\n",
            "You just earned 10 points\n",
            "You just earned 15 points\n"
          ]
        }
      ]
    },
    {
      "cell_type": "code",
      "source": [
        "ages = [2, 4, 13, 20, 65]\n",
        "\n",
        "for age in ages:\n",
        "    if age <= 2:\n",
        "        print(\"You're a toddler\")\n",
        "    elif age <= 4:\n",
        "        print(\"You're a kid\")\n",
        "    elif age <= 13:\n",
        "        print(\"You're a teenager \")\n",
        "    elif age <= 20:\n",
        "        print(\"You're an adult\")\n",
        "    else:\n",
        "        print(\"You're an elder\")\n"
      ],
      "metadata": {
        "colab": {
          "base_uri": "https://localhost:8080/"
        },
        "id": "4N-7Nw_GVr0W",
        "outputId": "0092faa9-e4de-42fd-9811-570988b54411"
      },
      "execution_count": 60,
      "outputs": [
        {
          "output_type": "stream",
          "name": "stdout",
          "text": [
            "You're a toddler\n",
            "You're a kid\n",
            "You're a teenager \n",
            "You're an adult\n",
            "You're an elder\n"
          ]
        }
      ]
    },
    {
      "cell_type": "code",
      "source": [
        "#5-7\n",
        "favorite_food = ['peach','mango','banana']\n",
        "if favorite_food == 'pineapple':\n",
        "  print(\"Pick up some pineapples!\")\n",
        "if favorite_food == 'mandarin':\n",
        "  print(\"pick up some mandarin!\")\n",
        "if favorite_food == \"peach\":\n",
        "  print(\"you must really like peaches\")\n",
        "else :\n",
        "  print (\"you may have all you need\")\n",
        ""
      ],
      "metadata": {
        "colab": {
          "base_uri": "https://localhost:8080/"
        },
        "id": "gU61PdbWZd5i",
        "outputId": "e39dd1ba-3abe-4e97-e410-f234665266c9"
      },
      "execution_count": 68,
      "outputs": [
        {
          "output_type": "stream",
          "name": "stdout",
          "text": [
            "you may have all you need\n"
          ]
        }
      ]
    },
    {
      "cell_type": "code",
      "source": [
        "#5-8\n",
        "usernames = [\"admin\", \"Jaden\", \"Alice\", \"Bob\", \"Eve\", \"Mia\"]\n",
        "\n",
        "for username in usernames:\n",
        "    if username == \"admin\":\n",
        "        print(\"Hello admin, would you like a status report?\")\n",
        "    else:\n",
        "        print(f\"Hello {username}, thank you for logging in again.\")\n"
      ],
      "metadata": {
        "colab": {
          "base_uri": "https://localhost:8080/"
        },
        "id": "iXTpvWWQecd4",
        "outputId": "94937c56-9108-4b08-8bb1-dc7af1ee4b8b"
      },
      "execution_count": 69,
      "outputs": [
        {
          "output_type": "stream",
          "name": "stdout",
          "text": [
            "Hello admin, would you like a status report?\n",
            "Hello Jaden, thank you for logging in again.\n",
            "Hello Alice, thank you for logging in again.\n",
            "Hello Bob, thank you for logging in again.\n",
            "Hello Eve, thank you for logging in again.\n",
            "Hello Mia, thank you for logging in again.\n"
          ]
        }
      ]
    },
    {
      "cell_type": "code",
      "source": [
        "#5-12\n",
        "\n",
        "numbers = [5, 12, 34, 8, 17, 42, 23, 6]\n",
        "\n",
        "max_number = numbers[0]\n",
        "for number in numbers:\n",
        "    if number > max_number:\n",
        "        max_number = number\n",
        "print(\"The maximum number in the list is:\", max_number)\n",
        "\n",
        "\n"
      ],
      "metadata": {
        "colab": {
          "base_uri": "https://localhost:8080/"
        },
        "id": "O8olWm4feu6W",
        "outputId": "35985dde-812f-4d2b-cbdb-c10f32cd62dc"
      },
      "execution_count": 77,
      "outputs": [
        {
          "output_type": "stream",
          "name": "stdout",
          "text": [
            "The maximum number in the list is: 42\n"
          ]
        }
      ]
    }
  ]
}