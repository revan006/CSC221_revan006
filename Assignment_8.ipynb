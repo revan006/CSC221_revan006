{
  "nbformat": 4,
  "nbformat_minor": 0,
  "metadata": {
    "colab": {
      "provenance": [],
      "authorship_tag": "ABX9TyMYw0uGXBjr8Rb69Eb7mZ36",
      "include_colab_link": true
    },
    "kernelspec": {
      "name": "python3",
      "display_name": "Python 3"
    },
    "language_info": {
      "name": "python"
    }
  },
  "cells": [
    {
      "cell_type": "markdown",
      "metadata": {
        "id": "view-in-github",
        "colab_type": "text"
      },
      "source": [
        "<a href=\"https://colab.research.google.com/github/revan006/CSC221_revan006/blob/main/Assignment_8.ipynb\" target=\"_parent\"><img src=\"https://colab.research.google.com/assets/colab-badge.svg\" alt=\"Open In Colab\"/></a>"
      ]
    },
    {
      "cell_type": "code",
      "execution_count": 1,
      "metadata": {
        "colab": {
          "base_uri": "https://localhost:8080/"
        },
        "id": "sb_pN8JTr-rS",
        "outputId": "5b074758-931f-4dbf-f1ed-bcffc1ad922f"
      },
      "outputs": [
        {
          "output_type": "stream",
          "name": "stdout",
          "text": [
            "What car would you like to rent today?Mazda\n",
            "\n",
            "Let me see if I can find you a Mazda!\n"
          ]
        }
      ],
      "source": [
        "#Rolando Evangelista\n",
        "# Assignent 8\n",
        "#6-1\n",
        "cars = input(\"What car would you like to rent today?\")\n",
        "print(f'\\nLet me see if I can find you a {cars}!')"
      ]
    },
    {
      "cell_type": "code",
      "source": [
        "#6-3\n",
        "numbers = input('Give me a number')\n",
        "numbers = int(numbers)\n",
        "if numbers % 10 ==0:\n",
        "  print(f'\\n That number is divisable of 10!')\n",
        "else:\n",
        "  print(f\"\\n That number isn't\")"
      ],
      "metadata": {
        "colab": {
          "base_uri": "https://localhost:8080/"
        },
        "id": "f0QjgqnUsHN1",
        "outputId": "21d2d4af-b479-4317-82c2-ae009c052877"
      },
      "execution_count": 2,
      "outputs": [
        {
          "output_type": "stream",
          "name": "stdout",
          "text": [
            "Give me a number100\n",
            "\n",
            " That number is divisable of 10!\n"
          ]
        }
      ]
    },
    {
      "cell_type": "code",
      "source": [
        "#7-5/7-6\n",
        "while True:\n",
        "    try:\n",
        "        age = int(input(\"Please enter your age (or type 'quit' to exit): \"))\n",
        "\n",
        "        if age < 3:\n",
        "            print(\"Your ticket is free.\")\n",
        "        elif 3 <= age <= 12:\n",
        "            print(\"Your ticket costs $10.\")\n",
        "        else:\n",
        "            print(\"Your ticket costs $15.\")\n",
        "\n",
        "    except ValueError:\n",
        "        user_input = input(\"Invalid input. Do you want to quit? (yes/no): \").strip().lower()\n",
        "        if user_input == \"yes\" or user_input == \"quit\":\n",
        "            break\n"
      ],
      "metadata": {
        "colab": {
          "base_uri": "https://localhost:8080/"
        },
        "id": "cnZuKr-5z3hT",
        "outputId": "f1bdaff1-18ea-47b3-dae2-1217c93ef89e"
      },
      "execution_count": 6,
      "outputs": [
        {
          "name": "stdout",
          "output_type": "stream",
          "text": [
            "Please enter your age (or type 'quit' to exit): 15\n",
            "Your ticket costs $15.\n",
            "Please enter your age (or type 'quit' to exit): quit\n",
            "Invalid input. Do you want to quit? (yes/no): yes\n"
          ]
        }
      ]
    },
    {
      "cell_type": "code",
      "source": [
        "#7-8\n",
        "sandwich_orders = [\"tuna\", \"turkey\", \"vegetarian\", \"ham and cheese\", \"roast beef\"]\n",
        "finished_sandwiches = []\n",
        "while sandwich_orders:\n",
        "    current_order = sandwich_orders.pop(0)\n",
        "    print(f\"I made your {current_order} sandwich.\")\n",
        "    finished_sandwiches.append(current_order)\n",
        "print(\"\\nList of finished sandwiches:\")\n",
        "for sandwich in finished_sandwiches:\n",
        "    print(sandwich)\n"
      ],
      "metadata": {
        "colab": {
          "base_uri": "https://localhost:8080/"
        },
        "id": "-_UzU2aRz8CY",
        "outputId": "d60475e4-6a85-4696-e23c-1ad39809cfa6"
      },
      "execution_count": 7,
      "outputs": [
        {
          "output_type": "stream",
          "name": "stdout",
          "text": [
            "I made your tuna sandwich.\n",
            "I made your turkey sandwich.\n",
            "I made your vegetarian sandwich.\n",
            "I made your ham and cheese sandwich.\n",
            "I made your roast beef sandwich.\n",
            "\n",
            "List of finished sandwiches:\n",
            "tuna\n",
            "turkey\n",
            "vegetarian\n",
            "ham and cheese\n",
            "roast beef\n"
          ]
        }
      ]
    },
    {
      "cell_type": "code",
      "source": [
        "#Super basic calculator\n",
        "total = 0\n",
        "while True:\n",
        "    try:\n",
        "        user_input = input(\"Enter a number (or 'q' to quit): \")\n",
        "        if user_input.lower() == 'q':\n",
        "            break\n",
        "        number = float(user_input)\n",
        "        operator = input(\"Enter an operator (+, -, *, /): \")\n",
        "        if operator == '+':\n",
        "            total += number\n",
        "        elif operator == '-':\n",
        "            total -= number\n",
        "        elif operator == '*':\n",
        "            total *= number\n",
        "        elif operator == '/':\n",
        "            if number == 0:\n",
        "                print(\"Error: Division by zero!\")\n",
        "            else:\n",
        "                total /= number\n",
        "        else:\n",
        "            print(\"Invalid operator! Please enter +, -, *, or /.\")\n",
        "        print(\"Total:\", total)\n",
        "\n",
        "    except ValueError:\n",
        "        print(\"Invalid input. Please enter a valid number.\")\n"
      ],
      "metadata": {
        "colab": {
          "base_uri": "https://localhost:8080/"
        },
        "id": "eiNYF6hj1RiP",
        "outputId": "df88369b-afae-43ba-d548-33802cf431c0"
      },
      "execution_count": 8,
      "outputs": [
        {
          "name": "stdout",
          "output_type": "stream",
          "text": [
            "Enter a number (or 'q' to quit): 5\n",
            "Enter an operator (+, -, *, /): +\n",
            "Total: 5.0\n",
            "Enter a number (or 'q' to quit): 5\n",
            "Enter an operator (+, -, *, /): q\n",
            "Invalid operator! Please enter +, -, *, or /.\n",
            "Total: 5.0\n",
            "Enter a number (or 'q' to quit): q\n"
          ]
        }
      ]
    }
  ]
}