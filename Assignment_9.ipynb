{
  "nbformat": 4,
  "nbformat_minor": 0,
  "metadata": {
    "colab": {
      "provenance": [],
      "authorship_tag": "ABX9TyP0Qi6yyxgWX6Ed8JdAQPmg",
      "include_colab_link": true
    },
    "kernelspec": {
      "name": "python3",
      "display_name": "Python 3"
    },
    "language_info": {
      "name": "python"
    }
  },
  "cells": [
    {
      "cell_type": "markdown",
      "metadata": {
        "id": "view-in-github",
        "colab_type": "text"
      },
      "source": [
        "<a href=\"https://colab.research.google.com/github/revan006/CSC221_revan006/blob/main/Assignment_9.ipynb\" target=\"_parent\"><img src=\"https://colab.research.google.com/assets/colab-badge.svg\" alt=\"Open In Colab\"/></a>"
      ]
    },
    {
      "cell_type": "code",
      "execution_count": null,
      "metadata": {
        "colab": {
          "base_uri": "https://localhost:8080/"
        },
        "id": "WyglMHJhFB9G",
        "outputId": "76a0a1de-0ed0-4532-ed9b-634c1eb31cc5"
      },
      "outputs": [
        {
          "output_type": "stream",
          "name": "stdout",
          "text": [
            "My favorite book is, Kafka On The Shore!\n"
          ]
        }
      ],
      "source": [
        "#8-2\n",
        "def favorite_book(book):\n",
        "    print(f\"My favorite book is, {book.title()}!\")\n",
        "favorite_book('Kafka on the shore')"
      ]
    },
    {
      "cell_type": "code",
      "source": [
        "#8-3 (A)\n",
        "def make_shirt(shirt_size,shirt_message):\n",
        "  print(f'You have a {shirt_size} shirt.')\n",
        "  print(f'The message you want printed is {shirt_message.title()}.')\n",
        "make_shirt('XL','I <3 NYC')"
      ],
      "metadata": {
        "id": "lURX6qNmFFbE",
        "colab": {
          "base_uri": "https://localhost:8080/"
        },
        "outputId": "4a7c842b-e544-42cc-f4cd-135781549a38"
      },
      "execution_count": 2,
      "outputs": [
        {
          "output_type": "stream",
          "name": "stdout",
          "text": [
            "You have a XL shirt.\n",
            "The message you want printed is I <3 Nyc.\n"
          ]
        }
      ]
    },
    {
      "cell_type": "code",
      "source": [
        "#8-3 (B)\n",
        "def make_shirt(shirt_size,shirt_message = 'I <3 NYC'):\n",
        "  print(f'You have a {shirt_size} shirt.')\n",
        "  print(f'The shirt with the {shirt_message.title()} on it')\n",
        "make_shirt('XS')"
      ],
      "metadata": {
        "colab": {
          "base_uri": "https://localhost:8080/"
        },
        "id": "qm9ycUVWlL4n",
        "outputId": "0bacd1ca-b172-40c8-b84e-3206f61b4352"
      },
      "execution_count": 6,
      "outputs": [
        {
          "output_type": "stream",
          "name": "stdout",
          "text": [
            "You have a XS shirt.\n",
            "The shirt with the I <3 Nyc on it\n"
          ]
        }
      ]
    },
    {
      "cell_type": "code",
      "source": [
        "#8-4\n",
        "def make_shirt(shirt_size=\"L\", shirt_message=\"I Love Python\", diff_message = \"I love C#\"):\n",
        "    if shirt_size in {\"L\", \"M\"}:\n",
        "        print(f\"Your {shirt_size} shirt will read: {shirt_message}\")\n",
        "    else:\n",
        "        print(f\"Your {shirt_size} shirt will read: {diff_message}.\")\n",
        "make_shirt()\n",
        "make_shirt('M')\n",
        "make_shirt(\"S\", \"Custom message\")\n",
        "make_shirt(\"XL\", \"Another custom message\")\n"
      ],
      "metadata": {
        "colab": {
          "base_uri": "https://localhost:8080/"
        },
        "id": "VOS7tN-Bl_F5",
        "outputId": "8f8a45f1-49cd-4900-9001-4faa0aa48653"
      },
      "execution_count": 13,
      "outputs": [
        {
          "output_type": "stream",
          "name": "stdout",
          "text": [
            "Your L shirt will read: I Love Python\n",
            "Your M shirt will read: I Love Python\n",
            "Your S shirt will read: I love C#.\n",
            "Your XL shirt will read: I love C#.\n"
          ]
        }
      ]
    },
    {
      "cell_type": "code",
      "source": [
        "#8-14\n",
        "def make_car(manufacturer, model, **kwargs):\n",
        "    car_info = {\n",
        "        'manufacturer': manufacturer,\n",
        "        'model': model,\n",
        "    }\n",
        "\n",
        "    car_info.update(kwargs)\n",
        "\n",
        "    return car_info\n",
        "car1 = make_car('Toyota', 'AE86 Sprinter Trueno', color='white', tofu_delivery=True)\n",
        "car2 = make_car('Nissan', 'Skyline GT-R R32', color='silver', AWD=True)\n",
        "car3 = make_car('Mazda', 'RX-7 FD', color='blue', rotary_engine=True)\n",
        "car4 = make_car('Subaru', 'Impreza WRX', color='blue', turbocharged=True)\n",
        "\n",
        "print(car1)\n",
        "print(car2)\n",
        "print(car3)\n",
        "print(car4)\n",
        "\n"
      ],
      "metadata": {
        "colab": {
          "base_uri": "https://localhost:8080/"
        },
        "id": "B2sSifObpIJF",
        "outputId": "b23051ab-c73f-4541-80b7-af526f64d4e1"
      },
      "execution_count": 15,
      "outputs": [
        {
          "output_type": "stream",
          "name": "stdout",
          "text": [
            "{'manufacturer': 'Toyota', 'model': 'AE86 Sprinter Trueno', 'color': 'white', 'tofu_delivery': True}\n",
            "{'manufacturer': 'Nissan', 'model': 'Skyline GT-R R32', 'color': 'silver', 'AWD': True}\n",
            "{'manufacturer': 'Mazda', 'model': 'RX-7 FD', 'color': 'blue', 'rotary_engine': True}\n",
            "{'manufacturer': 'Subaru', 'model': 'Impreza WRX', 'color': 'blue', 'turbocharged': True}\n"
          ]
        }
      ]
    },
    {
      "cell_type": "code",
      "source": [
        "import math\n",
        "\n",
        "def add_and_sort_numbers(num1, num2=math.pi, verbose=False):\n",
        "    # Calculate the sum\n",
        "    total = num1 + num2\n",
        "\n",
        "    # Create a sorted list containing both numbers\n",
        "    sorted_list = [num1, num2]\n",
        "    sorted_list.sort()\n",
        "\n",
        "    if verbose:\n",
        "        print(\"Parameters:\")\n",
        "        print(f\"num1 = {num1}\")\n",
        "        print(f\"num2 = {num2}\")\n",
        "        print(\"Results:\")\n",
        "        print(f\"Sum: {total}\")\n",
        "        print(f\"Sorted List: {sorted_list}\")\n",
        "\n",
        "    return total, sorted_list\n",
        "\n",
        "\n",
        "print(add_and_sort_numbers(2, 1))\n",
        "print(add_and_sort_numbers(5))\n",
        "print(add_and_sort_numbers(3, 4, verbose=True))\n",
        "print(add_and_sort_numbers(7, verbose=True))\n"
      ],
      "metadata": {
        "colab": {
          "base_uri": "https://localhost:8080/"
        },
        "id": "q3cNVdQlpzdg",
        "outputId": "f12c7528-270b-4fa8-ae3d-c4d08174efe5"
      },
      "execution_count": 16,
      "outputs": [
        {
          "output_type": "stream",
          "name": "stdout",
          "text": [
            "(3, [1, 2])\n",
            "(8.141592653589793, [3.141592653589793, 5])\n",
            "Parameters:\n",
            "num1 = 3\n",
            "num2 = 4\n",
            "Results:\n",
            "Sum: 7\n",
            "Sorted List: [3, 4]\n",
            "(7, [3, 4])\n",
            "Parameters:\n",
            "num1 = 7\n",
            "num2 = 3.141592653589793\n",
            "Results:\n",
            "Sum: 10.141592653589793\n",
            "Sorted List: [3.141592653589793, 7]\n",
            "(10.141592653589793, [3.141592653589793, 7])\n"
          ]
        }
      ]
    }
  ]
}