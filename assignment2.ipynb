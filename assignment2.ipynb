{
  "nbformat": 4,
  "nbformat_minor": 0,
  "metadata": {
    "colab": {
      "provenance": [],
      "authorship_tag": "ABX9TyNJQLtbkutYdohQM7XkUYjW",
      "include_colab_link": true
    },
    "kernelspec": {
      "name": "python3",
      "display_name": "Python 3"
    },
    "language_info": {
      "name": "python"
    }
  },
  "cells": [
    {
      "cell_type": "markdown",
      "metadata": {
        "id": "view-in-github",
        "colab_type": "text"
      },
      "source": [
        "<a href=\"https://colab.research.google.com/github/revan006/CSC221_revan006/blob/main/assignment2.ipynb\" target=\"_parent\"><img src=\"https://colab.research.google.com/assets/colab-badge.svg\" alt=\"Open In Colab\"/></a>"
      ]
    },
    {
      "cell_type": "code",
      "execution_count": 1,
      "metadata": {
        "colab": {
          "base_uri": "https://localhost:8080/"
        },
        "id": "pa70E8TGodwQ",
        "outputId": "922c016e-c670-4bbe-a29c-3a868d2c8424"
      },
      "outputs": [
        {
          "output_type": "stream",
          "name": "stdout",
          "text": [
            "test_1=37\n",
            "test_2 is [12, 14, 99]\n",
            "74\n",
            "[12, 14, 99, 12, 14, 99]\n",
            "111\n",
            "[12, 14, 99, 12, 14, 99, 12, 14, 99]\n"
          ]
        }
      ],
      "source": [
        "test_1 = 37\n",
        "test_2 = [12,14,99]\n",
        "\n",
        "print(f'{test_1=}')\n",
        "print('test_2 is', test_2)\n",
        "\n",
        "def doubler(x):\n",
        "  y = x * 2\n",
        "  return y\n",
        "\n",
        "print (doubler (test_1))\n",
        "print (doubler(test_2))\n",
        "class Wrapper:\n",
        "  def __init__(self, x ):\n",
        "    self.x = x\n",
        "  def tripler(self):\n",
        "    y = self.x * 3\n",
        "    return y\n",
        "w1 = Wrapper(test_1)\n",
        "w2 = Wrapper(test_2)\n",
        "\n",
        "print (w1.tripler())\n",
        "print (w2.tripler())"
      ]
    }
  ]
}